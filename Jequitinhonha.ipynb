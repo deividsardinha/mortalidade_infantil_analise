{
 "cells": [
  {
   "cell_type": "code",
   "execution_count": 2,
   "id": "b60c21dc",
   "metadata": {},
   "outputs": [],
   "source": [
    "import pandas as pd\n",
    "import numpy as np"
   ]
  },
  {
   "cell_type": "markdown",
   "id": "ec7818b4",
   "metadata": {},
   "source": [
    "# PRÉ-PROCESSAMENTO"
   ]
  },
  {
   "cell_type": "markdown",
   "id": "da1806c7",
   "metadata": {},
   "source": []
  },
  {
   "cell_type": "code",
   "execution_count": 3,
   "id": "1064531a",
   "metadata": {},
   "outputs": [],
   "source": [
    "jequitinhonha = pd.read_csv(\"data/data_Jequitinhonha.csv\")\n"
   ]
  },
  {
   "cell_type": "code",
   "execution_count": 4,
   "id": "6b558ade",
   "metadata": {},
   "outputs": [
    {
     "name": "stdout",
     "output_type": "stream",
     "text": [
      "<class 'pandas.core.frame.DataFrame'>\n",
      "RangeIndex: 192 entries, 0 to 191\n",
      "Data columns (total 21 columns):\n",
      " #   Column      Non-Null Count  Dtype  \n",
      "---  ------      --------------  -----  \n",
      " 0   CODMUNNASC  192 non-null    int64  \n",
      " 1   DTNASC      192 non-null    int64  \n",
      " 2   IDADEMAE    192 non-null    int64  \n",
      " 3   ESCMAE      192 non-null    float64\n",
      " 4   QTDFILVIVO  192 non-null    float64\n",
      " 5   QTDFILMORT  192 non-null    float64\n",
      " 6   GRAVIDEZ    192 non-null    float64\n",
      " 7   GESTACAO    183 non-null    float64\n",
      " 8   PARTO       192 non-null    float64\n",
      " 9   PESO        190 non-null    float64\n",
      " 10  SEXO        192 non-null    int64  \n",
      " 11  RACACOR     186 non-null    float64\n",
      " 12  APGAR1      175 non-null    float64\n",
      " 13  APGAR5      176 non-null    float64\n",
      " 14  IDANOMAL    190 non-null    float64\n",
      " 15  CONSULTAS   192 non-null    float64\n",
      " 16  ESTCIVMAE   192 non-null    float64\n",
      " 17  CODOCUPMAE  146 non-null    float64\n",
      " 18  LOCNASC     192 non-null    int64  \n",
      " 19  Regiao      192 non-null    object \n",
      " 20  CLASS       192 non-null    object \n",
      "dtypes: float64(14), int64(5), object(2)\n",
      "memory usage: 31.6+ KB\n"
     ]
    }
   ],
   "source": [
    "jequitinhonha.info()"
   ]
  },
  {
   "cell_type": "code",
   "execution_count": 5,
   "id": "18e90341",
   "metadata": {},
   "outputs": [
    {
     "name": "stdout",
     "output_type": "stream",
     "text": [
      "<class 'pandas.core.frame.DataFrame'>\n",
      "Int64Index: 174 entries, 0 to 191\n",
      "Data columns (total 19 columns):\n",
      " #   Column      Non-Null Count  Dtype  \n",
      "---  ------      --------------  -----  \n",
      " 0   CODMUNNASC  174 non-null    int64  \n",
      " 1   DTNASC      174 non-null    int64  \n",
      " 2   IDADEMAE    174 non-null    int64  \n",
      " 3   ESCMAE      174 non-null    float64\n",
      " 4   QTDFILVIVO  174 non-null    float64\n",
      " 5   QTDFILMORT  174 non-null    float64\n",
      " 6   GRAVIDEZ    174 non-null    float64\n",
      " 7   GESTACAO    174 non-null    float64\n",
      " 8   PARTO       174 non-null    float64\n",
      " 9   PESO        174 non-null    float64\n",
      " 10  SEXO        174 non-null    int64  \n",
      " 11  RACACOR     174 non-null    float64\n",
      " 12  APGAR1      174 non-null    float64\n",
      " 13  APGAR5      174 non-null    float64\n",
      " 14  IDANOMAL    174 non-null    float64\n",
      " 15  CONSULTAS   174 non-null    float64\n",
      " 16  ESTCIVMAE   174 non-null    float64\n",
      " 17  LOCNASC     174 non-null    int64  \n",
      " 18  CLASS       174 non-null    object \n",
      "dtypes: float64(13), int64(5), object(1)\n",
      "memory usage: 27.2+ KB\n"
     ]
    }
   ],
   "source": [
    "jequitinhonha.drop(['CODOCUPMAE', 'Regiao'], inplace=True, axis=1)\n",
    "jequitinhonha = jequitinhonha.dropna(subset=['APGAR1', 'APGAR5', 'IDANOMAL'])\n",
    "jequitinhonha['RACACOR'] = jequitinhonha['RACACOR'].fillna(0)\n",
    "jequitinhonha['GESTACAO'] = jequitinhonha['GESTACAO'].fillna(9)\n",
    "jequitinhonha.info()"
   ]
  },
  {
   "cell_type": "markdown",
   "id": "93eb3f7c",
   "metadata": {},
   "source": [
    "## Discretização"
   ]
  },
  {
   "cell_type": "code",
   "execution_count": 6,
   "id": "2bbc66e6",
   "metadata": {},
   "outputs": [],
   "source": [
    "jequitinhonha_data = jequitinhonha.copy()\n",
    "jequitinhonha_data['IDADEMAE'] = pd.cut(x=jequitinhonha_data['IDADEMAE'], bins=[-1,9,14,19,24,29,34,39,44,49,54,59,64,69,80])\n",
    "jequitinhonha_data['QTDFILVIVO'] = pd.cut(x=jequitinhonha_data['QTDFILVIVO'], bins=[-1,0,2,4,6,8,10,12,20])\n",
    "jequitinhonha_data['QTDFILMORT'] = pd.cut(x=jequitinhonha_data['QTDFILMORT'], bins=[-1,0,2,4,6,8,10,12,20])\n",
    "jequitinhonha_data['PESO'] = pd.cut(x=jequitinhonha_data['PESO'], bins=[-1,499,999,1499,2499,2999,3999,6000])\n",
    "jequitinhonha_data['APGAR1'] = pd.cut(x=jequitinhonha_data['APGAR1'], bins=[-1,2,4,100], labels=[\"0 a 2\", \"3 a 4\", \"5 a 7\"])\n",
    "jequitinhonha_data['APGAR5'] = pd.cut(x=jequitinhonha_data['APGAR5'], bins=[-1,2,4,100], labels=[\"0 a 2\", \"3 a 4\", \"5 a 7\"])"
   ]
  },
  {
   "cell_type": "code",
   "execution_count": 7,
   "id": "3a03a040",
   "metadata": {},
   "outputs": [],
   "source": [
    "jequitinhonha['IDADEMAE'] = pd.cut(x=jequitinhonha['IDADEMAE'], bins=[-1,9,14,19,24,29,34,39,44,49,54,59,64,69,80], labels=[\"<10\", \"10 a 14\", \"15 a 19\", \" 20 a 24\", \"25 a 29\", \"30 a 34\", \"35 a 39\", \"40 a 44\", \"45 a 49\", \"50 a 54\", \"55 a 59\", \"60 a 64\", \"65 a 69\", \">60\"])\n",
    "jequitinhonha['QTDFILVIVO'] = pd.cut(x=jequitinhonha['QTDFILVIVO'], bins=[-1,0,2,4,6,8,10,12,20], labels=[\"0\", \"1 a 2\", \"3 a 4\", \"5 a 6\", \"7 a 8\", \"9 a 10\", \"11 a 12\", \">12\"])\n",
    "jequitinhonha['QTDFILMORT'] = pd.cut(x=jequitinhonha['QTDFILMORT'], bins=[-1,0,2,4,6,8,10,12,20], labels=[\"0\", \"1 a 2\", \"3 a 4\", \"5 a 6\", \"7 a 8\", \"9 a 10\", \"11 a 12\", \">12\"])\n",
    "jequitinhonha['PESO'] = pd.cut(x=jequitinhonha['PESO'], bins=[-1,499,999,1499,2499,2999,3999,6000], labels=[\"<500\", \"500 a 999\", \"1000 a 1499\", \"1500 a 2499\", \"2500 a 2999\", \"3000 a 3999\", \">=4000\"])\n",
    "jequitinhonha['APGAR1'] = pd.cut(x=jequitinhonha['APGAR1'], bins=[-1,2,4,100], labels=[\"0 a 2\", \"3 a 4\", \"5 a 7\"])\n",
    "jequitinhonha['APGAR5'] = pd.cut(x=jequitinhonha['APGAR5'], bins=[-1,2,4,100], labels=[\"0 a 2\", \"3 a 4\", \"5 a 7\"])\n",
    "jequitinhonha['LOCNASC'] = jequitinhonha['LOCNASC'].map({9:'Ignorado', 1:'Hospital', 2:'Outro Estab Saúde', 3:'Domicílio', 4:'Outros'}) \n",
    "jequitinhonha['ESTCIVMAE'] = jequitinhonha['ESTCIVMAE'].map({1:'Solteira', 2:'Casada', 3: 'Viuva', 4:'Separado judicialmente/Divorciado', 5: 'União consensual', 9:'Ignorado'}) \n",
    "jequitinhonha['CONSULTAS'] = jequitinhonha['CONSULTAS'].map({1: 'Nenhuma', 2: 'de 1 a 3', 3: 'de 4 a 6', 4: '7 e mais', 9: 'Ignorado'})\n",
    "jequitinhonha['IDANOMAL'] = jequitinhonha['IDANOMAL'].map({9:'Ignorado', 1:'Sim', 2:'Não'})\n",
    "jequitinhonha['RACACOR'] = jequitinhonha['RACACOR'].map({1:'Branca', 2:'Preta', 3:'Amarela', 4:'Parda', 5: 'Indígena'})\n",
    "jequitinhonha['PARTO'] = jequitinhonha['PARTO'].map({9:'Ignorado', 1:'Vaginal', 2: 'Cesáreo'})\n",
    "jequitinhonha['GESTACAO'] = jequitinhonha['GESTACAO'].map({9:'Ignorado', 1:'Menos de 22 semanas', 2:'22 a 27 semanas', 3:'28 a 31 semanas', 4:'32 a 36 semanas', 5:'37 a 41 semanas', 6:'42 semanas e mais'})\n",
    "jequitinhonha['GRAVIDEZ']= jequitinhonha['GRAVIDEZ'].map({9:'Ignorado', 1:'Única', 2:'Dupla', 3:'Tripla e mais'})\n",
    "jequitinhonha['ESCMAE'] = jequitinhonha['ESCMAE'].map({1:'Nenhuma', 2:'1 a 3 anos', 3:'4 a 7 anos', 4:'8 a 11 anos', 5:'12 e mais', 9:'Ignorado'})\n",
    "jequitinhonha['SEXO'] = jequitinhonha['SEXO'].map({0:'Ignorado, não informado', 1:'Masculino', 2:'Feminino'})"
   ]
  },
  {
   "cell_type": "code",
   "execution_count": 8,
   "id": "b3f92831",
   "metadata": {},
   "outputs": [
    {
     "data": {
      "text/plain": [
       "Hospital    173\n",
       "Outros        1\n",
       "Name: LOCNASC, dtype: int64"
      ]
     },
     "execution_count": 8,
     "metadata": {},
     "output_type": "execute_result"
    },
    {
     "data": {
      "image/png": "[encoded data removed]",
      "text/plain": [
       "<Figure size 432x288 with 1 Axes>"
      ]
     },
     "metadata": {
      "needs_background": "light"
     },
     "output_type": "display_data"
    }
   ],
   "source": [
    "#Local de ocorrência do nascimento\n",
    "jequitinhonha['LOCNASC'].value_counts().plot(kind='bar')\n",
    "jequitinhonha['LOCNASC'].value_counts()"
   ]
  },
  {
   "cell_type": "code",
   "execution_count": 9,
   "id": "85e1bb6c",
   "metadata": {},
   "outputs": [
    {
     "data": {
      "text/plain": [
       "Solteira            82\n",
       "Casada              53\n",
       "União consensual    35\n",
       "Viuva                1\n",
       "Name: ESTCIVMAE, dtype: int64"
      ]
     },
     "execution_count": 9,
     "metadata": {},
     "output_type": "execute_result"
    },
    {
     "data": {
      "image/png": "[encoded data removed]",
      "text/plain": [
       "<Figure size 432x288 with 1 Axes>"
      ]
     },
     "metadata": {
      "needs_background": "light"
     },
     "output_type": "display_data"
    }
   ],
   "source": [
    "#Estado civil\n",
    "jequitinhonha['ESTCIVMAE'].value_counts().plot(kind='bar')\n",
    "jequitinhonha['ESTCIVMAE'].value_counts()"
   ]
  },
  {
   "cell_type": "code",
   "execution_count": 10,
   "id": "17caed5e",
   "metadata": {},
   "outputs": [
    {
     "data": {
      "text/plain": [
       "7 e mais    90\n",
       "de 4 a 6    51\n",
       "de 1 a 3    28\n",
       "Nenhuma      5\n",
       "Name: CONSULTAS, dtype: int64"
      ]
     },
     "execution_count": 10,
     "metadata": {},
     "output_type": "execute_result"
    },
    {
     "data": {
      "image/png": "[encoded data removed]",
      "text/plain": [
       "<Figure size 432x288 with 1 Axes>"
      ]
     },
     "metadata": {
      "needs_background": "light"
     },
     "output_type": "display_data"
    }
   ],
   "source": [
    "#Número de consultas de pré-natal\n",
    "jequitinhonha['CONSULTAS'].value_counts().plot(kind='bar')\n",
    "jequitinhonha['CONSULTAS'].value_counts()"
   ]
  },
  {
   "cell_type": "code",
   "execution_count": 11,
   "id": "ab11473f",
   "metadata": {},
   "outputs": [
    {
     "data": {
      "text/plain": [
       "Não    157\n",
       "Sim     16\n",
       "Name: IDANOMAL, dtype: int64"
      ]
     },
     "execution_count": 11,
     "metadata": {},
     "output_type": "execute_result"
    },
    {
     "data": {
      "image/png": "[encoded data removed]",
      "text/plain": [
       "<Figure size 432x288 with 1 Axes>"
      ]
     },
     "metadata": {
      "needs_background": "light"
     },
     "output_type": "display_data"
    }
   ],
   "source": [
    "#Anomalia congênita\n",
    "jequitinhonha['IDANOMAL'].value_counts().plot(kind='bar')\n",
    "jequitinhonha['IDANOMAL'].value_counts()"
   ]
  },
  {
   "cell_type": "code",
   "execution_count": 12,
   "id": "bb38992e",
   "metadata": {},
   "outputs": [
    {
     "data": {
      "text/plain": [
       "Parda      143\n",
       "Branca      20\n",
       "Preta        6\n",
       "Amarela      1\n",
       "Name: RACACOR, dtype: int64"
      ]
     },
     "execution_count": 12,
     "metadata": {},
     "output_type": "execute_result"
    },
    {
     "data": {
      "image/png": "[encoded data removed]",
      "text/plain": [
       "<Figure size 432x288 with 1 Axes>"
      ]
     },
     "metadata": {
      "needs_background": "light"
     },
     "output_type": "display_data"
    }
   ],
   "source": [
    "#Raça/Cor\n",
    "jequitinhonha['RACACOR'].value_counts().plot(kind='bar')\n",
    "jequitinhonha['RACACOR'].value_counts()"
   ]
  },
  {
   "cell_type": "code",
   "execution_count": 13,
   "id": "0056431e",
   "metadata": {},
   "outputs": [
    {
     "data": {
      "text/plain": [
       "Vaginal    120\n",
       "Cesáreo     54\n",
       "Name: PARTO, dtype: int64"
      ]
     },
     "execution_count": 13,
     "metadata": {},
     "output_type": "execute_result"
    },
    {
     "data": {
      "image/png": "[encoded data removed]",
      "text/plain": [
       "<Figure size 432x288 with 1 Axes>"
      ]
     },
     "metadata": {
      "needs_background": "light"
     },
     "output_type": "display_data"
    }
   ],
   "source": [
    "#Tipo de parto\n",
    "jequitinhonha['PARTO'].value_counts().plot(kind='bar')\n",
    "jequitinhonha['PARTO'].value_counts()"
   ]
  },
  {
   "cell_type": "code",
   "execution_count": 14,
   "id": "d6e17204",
   "metadata": {},
   "outputs": [
    {
     "data": {
      "text/plain": [
       "37 a 41 semanas        110\n",
       "22 a 27 semanas         23\n",
       "32 a 36 semanas         15\n",
       "28 a 31 semanas          9\n",
       "Ignorado                 8\n",
       "42 semanas e mais        6\n",
       "Menos de 22 semanas      3\n",
       "Name: GESTACAO, dtype: int64"
      ]
     },
     "execution_count": 14,
     "metadata": {},
     "output_type": "execute_result"
    },
    {
     "data": {
      "image/png": "[encoded data removed]",
      "text/plain": [
       "<Figure size 432x288 with 1 Axes>"
      ]
     },
     "metadata": {
      "needs_background": "light"
     },
     "output_type": "display_data"
    }
   ],
   "source": [
    "#Semanas de gestação\n",
    "jequitinhonha['GESTACAO'].value_counts().plot(kind='bar')\n",
    "jequitinhonha['GESTACAO'].value_counts()"
   ]
  },
  {
   "cell_type": "code",
   "execution_count": 15,
   "id": "35db9173",
   "metadata": {},
   "outputs": [
    {
     "data": {
      "text/plain": [
       "Única    159\n",
       "Dupla     15\n",
       "Name: GRAVIDEZ, dtype: int64"
      ]
     },
     "execution_count": 15,
     "metadata": {},
     "output_type": "execute_result"
    },
    {
     "data": {
      "image/png": "[encoded data removed]",
      "text/plain": [
       "<Figure size 432x288 with 1 Axes>"
      ]
     },
     "metadata": {
      "needs_background": "light"
     },
     "output_type": "display_data"
    }
   ],
   "source": [
    "#Tipo de gravidez\n",
    "jequitinhonha['GRAVIDEZ'].value_counts().plot(kind='bar')\n",
    "jequitinhonha['GRAVIDEZ'].value_counts()"
   ]
  },
  {
   "cell_type": "code",
   "execution_count": 16,
   "id": "b21100c1",
   "metadata": {},
   "outputs": [
    {
     "data": {
      "text/plain": [
       "8 a 11 anos    79\n",
       "4 a 7 anos     55\n",
       "1 a 3 anos     21\n",
       "12 e mais      10\n",
       "Nenhuma         5\n",
       "Ignorado        2\n",
       "Name: ESCMAE, dtype: int64"
      ]
     },
     "execution_count": 16,
     "metadata": {},
     "output_type": "execute_result"
    },
    {
     "data": {
      "image/png": "[encoded data removed]",
      "text/plain": [
       "<Figure size 432x288 with 1 Axes>"
      ]
     },
     "metadata": {
      "needs_background": "light"
     },
     "output_type": "display_data"
    }
   ],
   "source": [
    "#Escolaridade, anos de estudo concluídos\n",
    "jequitinhonha['ESCMAE'].value_counts().plot(kind='bar')\n",
    "jequitinhonha['ESCMAE'].value_counts()"
   ]
  },
  {
   "cell_type": "code",
   "execution_count": 17,
   "id": "e383528e",
   "metadata": {},
   "outputs": [
    {
     "data": {
      "text/plain": [
       " 20 a 24    48\n",
       "15 a 19     34\n",
       "25 a 29     31\n",
       "30 a 34     27\n",
       "35 a 39     20\n",
       "40 a 44     11\n",
       "10 a 14      2\n",
       "45 a 49      1\n",
       "<10          0\n",
       "50 a 54      0\n",
       "55 a 59      0\n",
       "60 a 64      0\n",
       "65 a 69      0\n",
       ">60          0\n",
       "Name: IDADEMAE, dtype: int64"
      ]
     },
     "execution_count": 17,
     "metadata": {},
     "output_type": "execute_result"
    },
    {
     "data": {
      "image/png": "[encoded data removed]",
      "text/plain": [
       "<Figure size 432x288 with 1 Axes>"
      ]
     },
     "metadata": {
      "needs_background": "light"
     },
     "output_type": "display_data"
    }
   ],
   "source": [
    "#Idade da mãe\n",
    "jequitinhonha['IDADEMAE'].value_counts().plot(kind='bar')\n",
    "jequitinhonha['IDADEMAE'].value_counts()"
   ]
  },
  {
   "cell_type": "code",
   "execution_count": 18,
   "id": "790b5072",
   "metadata": {},
   "outputs": [
    {
     "data": {
      "text/plain": [
       "1 a 2      76\n",
       "0          69\n",
       "3 a 4      13\n",
       "5 a 6      12\n",
       "7 a 8       3\n",
       "9 a 10      1\n",
       "11 a 12     0\n",
       ">12         0\n",
       "Name: QTDFILVIVO, dtype: int64"
      ]
     },
     "execution_count": 18,
     "metadata": {},
     "output_type": "execute_result"
    },
    {
     "data": {
      "image/png": "[encoded data removed]",
      "text/plain": [
       "<Figure size 432x288 with 1 Axes>"
      ]
     },
     "metadata": {
      "needs_background": "light"
     },
     "output_type": "display_data"
    }
   ],
   "source": [
    "#Número de filhos vivos\n",
    "jequitinhonha['QTDFILVIVO'].value_counts().plot(kind='bar')\n",
    "jequitinhonha['QTDFILVIVO'].value_counts()"
   ]
  },
  {
   "cell_type": "code",
   "execution_count": 19,
   "id": "57d71490",
   "metadata": {},
   "outputs": [
    {
     "data": {
      "text/plain": [
       "0          149\n",
       "1 a 2       22\n",
       "3 a 4        3\n",
       "5 a 6        0\n",
       "7 a 8        0\n",
       "9 a 10       0\n",
       "11 a 12      0\n",
       ">12          0\n",
       "Name: QTDFILMORT, dtype: int64"
      ]
     },
     "execution_count": 19,
     "metadata": {},
     "output_type": "execute_result"
    },
    {
     "data": {
      "image/png": "[encoded data removed]",
      "text/plain": [
       "<Figure size 432x288 with 1 Axes>"
      ]
     },
     "metadata": {
      "needs_background": "light"
     },
     "output_type": "display_data"
    }
   ],
   "source": [
    "#Número de filhos mortos\n",
    "jequitinhonha['QTDFILMORT'].value_counts().plot(kind='bar')\n",
    "jequitinhonha['QTDFILMORT'].value_counts()"
   ]
  },
  {
   "cell_type": "code",
   "execution_count": 20,
   "id": "5a221893",
   "metadata": {},
   "outputs": [
    {
     "data": {
      "text/plain": [
       "3000 a 3999    66\n",
       "2500 a 2999    43\n",
       "500 a 999      21\n",
       "1500 a 2499    19\n",
       "1000 a 1499    14\n",
       ">=4000          7\n",
       "<500            4\n",
       "Name: PESO, dtype: int64"
      ]
     },
     "execution_count": 20,
     "metadata": {},
     "output_type": "execute_result"
    },
    {
     "data": {
      "image/png": "[encoded data removed]",
      "text/plain": [
       "<Figure size 432x288 with 1 Axes>"
      ]
     },
     "metadata": {
      "needs_background": "light"
     },
     "output_type": "display_data"
    }
   ],
   "source": [
    "#Peso ao nascer, em gramas\n",
    "jequitinhonha['PESO'].value_counts().plot(kind='bar')\n",
    "jequitinhonha['PESO'].value_counts()"
   ]
  },
  {
   "cell_type": "code",
   "execution_count": 21,
   "id": "e25e6965",
   "metadata": {},
   "outputs": [
    {
     "data": {
      "text/plain": [
       "5 a 7    92\n",
       "0 a 2    63\n",
       "3 a 4    19\n",
       "Name: APGAR1, dtype: int64"
      ]
     },
     "execution_count": 21,
     "metadata": {},
     "output_type": "execute_result"
    },
    {
     "data": {
      "image/png": "[encoded data removed]",
      "text/plain": [
       "<Figure size 432x288 with 1 Axes>"
      ]
     },
     "metadata": {
      "needs_background": "light"
     },
     "output_type": "display_data"
    }
   ],
   "source": [
    "#Apgar no primeiro minuto\n",
    "jequitinhonha['APGAR1'].value_counts().plot(kind='bar')\n",
    "jequitinhonha['APGAR1'].value_counts()"
   ]
  },
  {
   "cell_type": "code",
   "execution_count": 22,
   "id": "c5637acc",
   "metadata": {},
   "outputs": [
    {
     "data": {
      "text/plain": [
       "0 a 2    84\n",
       "5 a 7    80\n",
       "3 a 4    10\n",
       "Name: APGAR5, dtype: int64"
      ]
     },
     "execution_count": 22,
     "metadata": {},
     "output_type": "execute_result"
    },
    {
     "data": {
      "image/png": "[encoded data removed]",
      "text/plain": [
       "<Figure size 432x288 with 1 Axes>"
      ]
     },
     "metadata": {
      "needs_background": "light"
     },
     "output_type": "display_data"
    }
   ],
   "source": [
    "#Apgar no quinto minuto\n",
    "jequitinhonha['APGAR5'].value_counts().plot(kind='bar')\n",
    "jequitinhonha['APGAR5'].value_counts()"
   ]
  },
  {
   "cell_type": "code",
   "execution_count": 23,
   "id": "d166f95f",
   "metadata": {},
   "outputs": [
    {
     "data": {
      "text/plain": [
       "Masculino    101\n",
       "Feminino      73\n",
       "Name: SEXO, dtype: int64"
      ]
     },
     "execution_count": 23,
     "metadata": {},
     "output_type": "execute_result"
    },
    {
     "data": {
      "image/png": "[encoded data removed]",
      "text/plain": [
       "<Figure size 432x288 with 1 Axes>"
      ]
     },
     "metadata": {
      "needs_background": "light"
     },
     "output_type": "display_data"
    }
   ],
   "source": [
    "#Sexo\n",
    "jequitinhonha['SEXO'].value_counts().plot(kind='bar')\n",
    "jequitinhonha['SEXO'].value_counts()"
   ]
  },
  {
   "cell_type": "code",
   "execution_count": 24,
   "id": "4d4146fd",
   "metadata": {},
   "outputs": [
    {
     "name": "stdout",
     "output_type": "stream",
     "text": [
      "<class 'pandas.core.frame.DataFrame'>\n",
      "Int64Index: 174 entries, 0 to 191\n",
      "Data columns (total 19 columns):\n",
      " #   Column      Non-Null Count  Dtype   \n",
      "---  ------      --------------  -----   \n",
      " 0   CODMUNNASC  174 non-null    int64   \n",
      " 1   DTNASC      174 non-null    int64   \n",
      " 2   IDADEMAE    174 non-null    category\n",
      " 3   ESCMAE      172 non-null    object  \n",
      " 4   QTDFILVIVO  174 non-null    category\n",
      " 5   QTDFILMORT  174 non-null    category\n",
      " 6   GRAVIDEZ    174 non-null    object  \n",
      " 7   GESTACAO    174 non-null    object  \n",
      " 8   PARTO       174 non-null    object  \n",
      " 9   PESO        174 non-null    category\n",
      " 10  SEXO        174 non-null    object  \n",
      " 11  RACACOR     170 non-null    object  \n",
      " 12  APGAR1      174 non-null    category\n",
      " 13  APGAR5      174 non-null    category\n",
      " 14  IDANOMAL    173 non-null    object  \n",
      " 15  CONSULTAS   174 non-null    object  \n",
      " 16  ESTCIVMAE   171 non-null    object  \n",
      " 17  LOCNASC     174 non-null    object  \n",
      " 18  CLASS       174 non-null    object  \n",
      "dtypes: category(6), int64(2), object(11)\n",
      "memory usage: 22.0+ KB\n"
     ]
    }
   ],
   "source": [
    "jequitinhonha.info()"
   ]
  },
  {
   "cell_type": "markdown",
   "id": "ff1c8623",
   "metadata": {},
   "source": [
    "# Biologicos\n",
    "- PESO \n",
    "- APGAR1 \n",
    "- APGAR5 \n",
    "- GESTAÇÃO \n",
    "- PARTO \n",
    "- TIPO DE GRAVIDEZ \n",
    "- ANOMALIA CONGÊNITA\n",
    "\n",
    "# Sociais\n",
    "\n",
    "- ESTADO CIVIL \n",
    "- IDADE DA MÃE \n",
    "- LOCAL DO PARTO \n",
    "- QUANT. DE FILHOS VIVOS \n",
    "- QUANT. DE FILHOS MORTOS \n",
    "- ESCOLARIDADE DA MÂE \n",
    "- RAÇA / COR \n",
    "- NÚMERO DE CONSULTAS MÉDICAS PRÉ NATAL "
   ]
  },
  {
   "cell_type": "code",
   "execution_count": 25,
   "id": "79723dfa",
   "metadata": {},
   "outputs": [],
   "source": [
    "biologicos = ['PESO', 'APGAR1', 'APGAR5', 'SEXO','GESTACAO', 'PARTO', 'GRAVIDEZ', 'IDANOMAL', 'CLASS']\n",
    "\n",
    "sociais = ['ESTCIVMAE', 'IDADEMAE', 'LOCNASC', 'QTDFILVIVO', 'QTDFILMORT', 'ESCMAE', 'RACACOR', 'CONSULTAS', 'CLASS']"
   ]
  },
  {
   "cell_type": "code",
   "execution_count": 26,
   "id": "baceabcd",
   "metadata": {},
   "outputs": [],
   "source": [
    "jequitinhonha_biologico_data = jequitinhonha_data[biologicos]\n",
    "jequitinhonha_sociais_data = jequitinhonha_data[sociais]\n",
    "\n",
    "jequitinhonha_biologico_df = jequitinhonha[biologicos]\n",
    "jequitinhonha_sociais_df = jequitinhonha[sociais]"
   ]
  },
  {
   "cell_type": "code",
   "execution_count": 27,
   "id": "86eaaec1",
   "metadata": {},
   "outputs": [
    {
     "data": {
      "text/html": [
       "<div>\n",
       "<style scoped>\n",
       "    .dataframe tbody tr th:only-of-type {\n",
       "        vertical-align: middle;\n",
       "    }\n",
       "\n",
       "    .dataframe tbody tr th {\n",
       "        vertical-align: top;\n",
       "    }\n",
       "\n",
       "    .dataframe thead th {\n",
       "        text-align: right;\n",
       "    }\n",
       "</style>\n",
       "<table border=\"1\" class=\"dataframe\">\n",
       "  <thead>\n",
       "    <tr style=\"text-align: right;\">\n",
       "      <th></th>\n",
       "      <th>PESO</th>\n",
       "      <th>APGAR1</th>\n",
       "      <th>APGAR5</th>\n",
       "      <th>SEXO</th>\n",
       "      <th>GESTACAO</th>\n",
       "      <th>PARTO</th>\n",
       "      <th>GRAVIDEZ</th>\n",
       "      <th>IDANOMAL</th>\n",
       "      <th>CLASS</th>\n",
       "    </tr>\n",
       "  </thead>\n",
       "  <tbody>\n",
       "    <tr>\n",
       "      <th>0</th>\n",
       "      <td>1500 a 2499</td>\n",
       "      <td>5 a 7</td>\n",
       "      <td>5 a 7</td>\n",
       "      <td>Feminino</td>\n",
       "      <td>37 a 41 semanas</td>\n",
       "      <td>Cesáreo</td>\n",
       "      <td>Única</td>\n",
       "      <td>Sim</td>\n",
       "      <td>Morto</td>\n",
       "    </tr>\n",
       "    <tr>\n",
       "      <th>1</th>\n",
       "      <td>2500 a 2999</td>\n",
       "      <td>0 a 2</td>\n",
       "      <td>5 a 7</td>\n",
       "      <td>Feminino</td>\n",
       "      <td>37 a 41 semanas</td>\n",
       "      <td>Vaginal</td>\n",
       "      <td>Única</td>\n",
       "      <td>Sim</td>\n",
       "      <td>Morto</td>\n",
       "    </tr>\n",
       "    <tr>\n",
       "      <th>2</th>\n",
       "      <td>2500 a 2999</td>\n",
       "      <td>3 a 4</td>\n",
       "      <td>5 a 7</td>\n",
       "      <td>Feminino</td>\n",
       "      <td>37 a 41 semanas</td>\n",
       "      <td>Vaginal</td>\n",
       "      <td>Única</td>\n",
       "      <td>Não</td>\n",
       "      <td>Morto</td>\n",
       "    </tr>\n",
       "    <tr>\n",
       "      <th>3</th>\n",
       "      <td>1000 a 1499</td>\n",
       "      <td>3 a 4</td>\n",
       "      <td>3 a 4</td>\n",
       "      <td>Masculino</td>\n",
       "      <td>37 a 41 semanas</td>\n",
       "      <td>Vaginal</td>\n",
       "      <td>Única</td>\n",
       "      <td>Não</td>\n",
       "      <td>Morto</td>\n",
       "    </tr>\n",
       "    <tr>\n",
       "      <th>4</th>\n",
       "      <td>3000 a 3999</td>\n",
       "      <td>5 a 7</td>\n",
       "      <td>5 a 7</td>\n",
       "      <td>Masculino</td>\n",
       "      <td>42 semanas e mais</td>\n",
       "      <td>Vaginal</td>\n",
       "      <td>Única</td>\n",
       "      <td>Não</td>\n",
       "      <td>Morto</td>\n",
       "    </tr>\n",
       "  </tbody>\n",
       "</table>\n",
       "</div>"
      ],
      "text/plain": [
       "          PESO APGAR1 APGAR5       SEXO           GESTACAO    PARTO GRAVIDEZ  \\\n",
       "0  1500 a 2499  5 a 7  5 a 7   Feminino    37 a 41 semanas  Cesáreo    Única   \n",
       "1  2500 a 2999  0 a 2  5 a 7   Feminino    37 a 41 semanas  Vaginal    Única   \n",
       "2  2500 a 2999  3 a 4  5 a 7   Feminino    37 a 41 semanas  Vaginal    Única   \n",
       "3  1000 a 1499  3 a 4  3 a 4  Masculino    37 a 41 semanas  Vaginal    Única   \n",
       "4  3000 a 3999  5 a 7  5 a 7  Masculino  42 semanas e mais  Vaginal    Única   \n",
       "\n",
       "  IDANOMAL  CLASS  \n",
       "0      Sim  Morto  \n",
       "1      Sim  Morto  \n",
       "2      Não  Morto  \n",
       "3      Não  Morto  \n",
       "4      Não  Morto  "
      ]
     },
     "execution_count": 27,
     "metadata": {},
     "output_type": "execute_result"
    }
   ],
   "source": [
    "jequitinhonha_biologico_df.head()"
   ]
  },
  {
   "cell_type": "code",
   "execution_count": 28,
   "id": "9f4a2a0d",
   "metadata": {},
   "outputs": [
    {
     "data": {
      "text/html": [
       "<div>\n",
       "<style scoped>\n",
       "    .dataframe tbody tr th:only-of-type {\n",
       "        vertical-align: middle;\n",
       "    }\n",
       "\n",
       "    .dataframe tbody tr th {\n",
       "        vertical-align: top;\n",
       "    }\n",
       "\n",
       "    .dataframe thead th {\n",
       "        text-align: right;\n",
       "    }\n",
       "</style>\n",
       "<table border=\"1\" class=\"dataframe\">\n",
       "  <thead>\n",
       "    <tr style=\"text-align: right;\">\n",
       "      <th></th>\n",
       "      <th>ESTCIVMAE</th>\n",
       "      <th>IDADEMAE</th>\n",
       "      <th>LOCNASC</th>\n",
       "      <th>QTDFILVIVO</th>\n",
       "      <th>QTDFILMORT</th>\n",
       "      <th>ESCMAE</th>\n",
       "      <th>RACACOR</th>\n",
       "      <th>CONSULTAS</th>\n",
       "      <th>CLASS</th>\n",
       "    </tr>\n",
       "  </thead>\n",
       "  <tbody>\n",
       "    <tr>\n",
       "      <th>0</th>\n",
       "      <td>Solteira</td>\n",
       "      <td>25 a 29</td>\n",
       "      <td>Hospital</td>\n",
       "      <td>0</td>\n",
       "      <td>1 a 2</td>\n",
       "      <td>4 a 7 anos</td>\n",
       "      <td>Parda</td>\n",
       "      <td>de 4 a 6</td>\n",
       "      <td>Morto</td>\n",
       "    </tr>\n",
       "    <tr>\n",
       "      <th>1</th>\n",
       "      <td>Casada</td>\n",
       "      <td>40 a 44</td>\n",
       "      <td>Hospital</td>\n",
       "      <td>5 a 6</td>\n",
       "      <td>1 a 2</td>\n",
       "      <td>4 a 7 anos</td>\n",
       "      <td>Parda</td>\n",
       "      <td>7 e mais</td>\n",
       "      <td>Morto</td>\n",
       "    </tr>\n",
       "    <tr>\n",
       "      <th>2</th>\n",
       "      <td>Solteira</td>\n",
       "      <td>25 a 29</td>\n",
       "      <td>Hospital</td>\n",
       "      <td>5 a 6</td>\n",
       "      <td>0</td>\n",
       "      <td>1 a 3 anos</td>\n",
       "      <td>Parda</td>\n",
       "      <td>de 4 a 6</td>\n",
       "      <td>Morto</td>\n",
       "    </tr>\n",
       "    <tr>\n",
       "      <th>3</th>\n",
       "      <td>Solteira</td>\n",
       "      <td>20 a 24</td>\n",
       "      <td>Hospital</td>\n",
       "      <td>1 a 2</td>\n",
       "      <td>0</td>\n",
       "      <td>8 a 11 anos</td>\n",
       "      <td>Parda</td>\n",
       "      <td>de 4 a 6</td>\n",
       "      <td>Morto</td>\n",
       "    </tr>\n",
       "    <tr>\n",
       "      <th>4</th>\n",
       "      <td>Viuva</td>\n",
       "      <td>35 a 39</td>\n",
       "      <td>Hospital</td>\n",
       "      <td>5 a 6</td>\n",
       "      <td>0</td>\n",
       "      <td>1 a 3 anos</td>\n",
       "      <td>Branca</td>\n",
       "      <td>de 1 a 3</td>\n",
       "      <td>Morto</td>\n",
       "    </tr>\n",
       "  </tbody>\n",
       "</table>\n",
       "</div>"
      ],
      "text/plain": [
       "  ESTCIVMAE  IDADEMAE   LOCNASC QTDFILVIVO QTDFILMORT       ESCMAE RACACOR  \\\n",
       "0  Solteira   25 a 29  Hospital          0      1 a 2   4 a 7 anos   Parda   \n",
       "1    Casada   40 a 44  Hospital      5 a 6      1 a 2   4 a 7 anos   Parda   \n",
       "2  Solteira   25 a 29  Hospital      5 a 6          0   1 a 3 anos   Parda   \n",
       "3  Solteira   20 a 24  Hospital      1 a 2          0  8 a 11 anos   Parda   \n",
       "4     Viuva   35 a 39  Hospital      5 a 6          0   1 a 3 anos  Branca   \n",
       "\n",
       "  CONSULTAS  CLASS  \n",
       "0  de 4 a 6  Morto  \n",
       "1  7 e mais  Morto  \n",
       "2  de 4 a 6  Morto  \n",
       "3  de 4 a 6  Morto  \n",
       "4  de 1 a 3  Morto  "
      ]
     },
     "execution_count": 28,
     "metadata": {},
     "output_type": "execute_result"
    }
   ],
   "source": [
    "jequitinhonha_sociais_df.head()"
   ]
  },
  {
   "cell_type": "code",
   "execution_count": 29,
   "id": "a1814b62",
   "metadata": {},
   "outputs": [],
   "source": [
    "jequitinhonha_biologico_df.to_csv('jequitinhonha_biologico.csv', index=False )\n",
    "jequitinhonha_sociais_df.to_csv('jequitinhonha_sociais.csv', index=False )\n",
    "\n",
    "jequitinhonha_biologico_data.to_csv('jequitinhonha_biologico_data.csv', index=False )\n",
    "jequitinhonha_sociais_data.to_csv('jequitinhonha_sociais_data.csv', index=False )"
   ]
  },
  {
   "cell_type": "markdown",
   "id": "df5bdc29",
   "metadata": {},
   "source": [
    "# CLASSIFICADORES"
   ]
  },
  {
   "cell_type": "code",
   "execution_count": 30,
   "id": "76e328f5",
   "metadata": {},
   "outputs": [
    {
     "name": "stderr",
     "output_type": "stream",
     "text": [
      "DEBUG:weka.core.jvm:Adding bundled jars\n",
      "DEBUG:weka.core.jvm:Classpath=['/home/isaac/anaconda3/lib/python3.8/site-packages/javabridge/jars/rhino-1.7R4.jar', '/home/isaac/anaconda3/lib/python3.8/site-packages/javabridge/jars/runnablequeue.jar', '/home/isaac/anaconda3/lib/python3.8/site-packages/javabridge/jars/cpython.jar', '/home/isaac/anaconda3/lib/python3.8/site-packages/weka/lib/weka.jar', '/home/isaac/anaconda3/lib/python3.8/site-packages/weka/lib/python-weka-wrapper.jar']\n",
      "DEBUG:weka.core.jvm:MaxHeapSize=default\n",
      "DEBUG:weka.core.jvm:Package support disabled\n"
     ]
    }
   ],
   "source": [
    "from weka.classifiers import Classifier,Evaluation\n",
    "from weka.core.converters import Loader\n",
    "from weka.core.classes import Random\n",
    "\n",
    "import pydotplus\n",
    "from IPython.display import SVG\n",
    "\n",
    "import weka.core.jvm as jvm\n",
    "jvm.start()"
   ]
  },
  {
   "cell_type": "code",
   "execution_count": 31,
   "id": "31280a36",
   "metadata": {},
   "outputs": [],
   "source": [
    "loader=Loader(\"weka.core.converters.CSVLoader\")\n",
    "cvp=Classifier(classname='weka.classifiers.meta.CVParameterSelection')\n",
    "\n",
    "#Leeando dataset pré-processado\n",
    "jequitinhonha_sociais = loader.load_file(\"jequitinhonha_sociais_data.csv\", class_index=\"last\")\n",
    "\n",
    "jequitinhonha_biologico = loader.load_file(\"jequitinhonha_biologico_data.csv\", class_index=\"last\")\n"
   ]
  },
  {
   "cell_type": "code",
   "execution_count": 32,
   "id": "552f5ae1",
   "metadata": {},
   "outputs": [],
   "source": [
    "#Evaluação com crossvalidation, 10 particões\n",
    "def classifier_estimate(data, cls_name, options=[]):\n",
    "    opt=['-W',cls_name,'-X','10']\n",
    "    opt=['-W',cls_name,'-X','10']\n",
    "    for par in options:\n",
    "        opt.append('-P')\n",
    "        opt.append(par)\n",
    "    cvp.options=opt\n",
    "    evl = Evaluation(data)\n",
    "    evl.crossvalidate_model(cvp, data, 10, Random(1))\n",
    "    print(evl.percent_correct)\n",
    "    print(evl.summary())\n",
    "    print(evl.class_details()) \n",
    "    print(evl.matrix())\n",
    "    return cvp"
   ]
  },
  {
   "cell_type": "markdown",
   "id": "6b50e3aa",
   "metadata": {},
   "source": [
    "## Algoritmo C4.5"
   ]
  },
  {
   "cell_type": "markdown",
   "id": "26b1a35e",
   "metadata": {},
   "source": [
    "### Biologico"
   ]
  },
  {
   "cell_type": "code",
   "execution_count": 33,
   "id": "fa857a06",
   "metadata": {},
   "outputs": [
    {
     "name": "stdout",
     "output_type": "stream",
     "text": [
      "73.5632183908046\n",
      "\n",
      "Correctly Classified Instances         128               73.5632 %\n",
      "Incorrectly Classified Instances        46               26.4368 %\n",
      "Kappa statistic                          0.4713\n",
      "Mean absolute error                      0.3207\n",
      "Root mean squared error                  0.4284\n",
      "Relative absolute error                 64.1344 %\n",
      "Root relative squared error             85.6678 %\n",
      "Total Number of Instances              174     \n",
      "\n",
      "=== Detailed Accuracy By Class ===\n",
      "\n",
      "                 TP Rate  FP Rate  Precision  Recall   F-Measure  MCC      ROC Area  PRC Area  Class\n",
      "                 0,586    0,115    0,836      0,586    0,689      0,494    0,770     0,811     Morto\n",
      "                 0,885    0,414    0,681      0,885    0,770      0,494    0,770     0,672     Vivo\n",
      "Weighted Avg.    0,736    0,264    0,759      0,736    0,730      0,494    0,770     0,742     \n",
      "\n",
      "=== Confusion Matrix ===\n",
      "\n",
      "  a  b   <-- classified as\n",
      " 51 36 |  a = Morto\n",
      " 10 77 |  b = Vivo\n",
      "\n"
     ]
    },
    {
     "data": {
      "text/plain": [
       "CVParameterSelection: No model built yet."
      ]
     },
     "execution_count": 33,
     "metadata": {},
     "output_type": "execute_result"
    }
   ],
   "source": [
    "clf_C45_jequitinhonha_biologico = classifier_estimate(jequitinhonha_biologico,'weka.classifiers.trees.J48',['M 1 10 10','C 0.05 0.25 5'])\n",
    "clf_C45_jequitinhonha_biologico"
   ]
  },
  {
   "cell_type": "code",
   "execution_count": 34,
   "id": "a5a8d35d",
   "metadata": {},
   "outputs": [
    {
     "data": {
      "text/plain": [
       "Cross-validated Parameter selection.\n",
       "Classifier: weka.classifiers.trees.J48\n",
       "Cross-validation Parameter: '-M' ranged from 1.0 to 10.0 with 10.0 steps\n",
       "Cross-validation Parameter: '-C' ranged from 0.05 to 0.25 with 5.0 steps\n",
       "Classifier Options: -M 4 -C 0.25\n",
       "\n",
       "J48 pruned tree\n",
       "------------------\n",
       "\n",
       "GESTACAO <= 3: Morto (35.0)\n",
       "GESTACAO > 3\n",
       "|   IDANOMAL <= 1: Morto (14.0/1.0)\n",
       "|   IDANOMAL > 1\n",
       "|   |   APGAR5 = 5 a 7\n",
       "|   |   |   APGAR1 = 5 a 7\n",
       "|   |   |   |   PESO = (1499, 2499]: Morto (3.0/1.0)\n",
       "|   |   |   |   PESO = (2499, 2999]: Morto (5.0/1.0)\n",
       "|   |   |   |   PESO = (999, 1499]: Morto (2.0)\n",
       "|   |   |   |   PESO = (2999, 3999]: Vivo (13.0/5.0)\n",
       "|   |   |   |   PESO = (3999, 6000]: Vivo (2.0)\n",
       "|   |   |   |   PESO = (499, 999]: Morto (0.0)\n",
       "|   |   |   |   PESO = (-1, 499]: Morto (0.0)\n",
       "|   |   |   APGAR1 = 0 a 2: Vivo (30.0/6.0)\n",
       "|   |   |   APGAR1 = 3 a 4: Morto (5.0/1.0)\n",
       "|   |   APGAR5 = 3 a 4: Morto (3.0)\n",
       "|   |   APGAR5 = 0 a 2: Vivo (62.0/13.0)\n",
       "\n",
       "Number of Leaves  : \t13\n",
       "\n",
       "Size of the tree : \t18"
      ]
     },
     "execution_count": 34,
     "metadata": {},
     "output_type": "execute_result"
    }
   ],
   "source": [
    "#Regras Geradas\n",
    "clf_C45_jequitinhonha_biologico.build_classifier(jequitinhonha_biologico)\n",
    "clf_C45_jequitinhonha_biologico"
   ]
  },
  {
   "cell_type": "markdown",
   "id": "0edf46a3",
   "metadata": {},
   "source": [
    "### Sociais"
   ]
  },
  {
   "cell_type": "code",
   "execution_count": 35,
   "id": "fa65810c",
   "metadata": {},
   "outputs": [
    {
     "name": "stdout",
     "output_type": "stream",
     "text": [
      "60.91954022988506\n",
      "\n",
      "Correctly Classified Instances         106               60.9195 %\n",
      "Incorrectly Classified Instances        68               39.0805 %\n",
      "Kappa statistic                          0.2184\n",
      "Mean absolute error                      0.396 \n",
      "Root mean squared error                  0.4596\n",
      "Relative absolute error                 79.1757 %\n",
      "Root relative squared error             91.8941 %\n",
      "Total Number of Instances              174     \n",
      "\n",
      "=== Detailed Accuracy By Class ===\n",
      "\n",
      "                 TP Rate  FP Rate  Precision  Recall   F-Measure  MCC      ROC Area  PRC Area  Class\n",
      "                 0,437    0,218    0,667      0,437    0,528      0,233    0,693     0,688     Morto\n",
      "                 0,782    0,563    0,581      0,782    0,667      0,233    0,693     0,686     Vivo\n",
      "Weighted Avg.    0,609    0,391    0,624      0,609    0,597      0,233    0,693     0,687     \n",
      "\n",
      "=== Confusion Matrix ===\n",
      "\n",
      "  a  b   <-- classified as\n",
      " 38 49 |  a = Morto\n",
      " 19 68 |  b = Vivo\n",
      "\n"
     ]
    },
    {
     "data": {
      "text/plain": [
       "Cross-validated Parameter selection.\n",
       "Classifier: weka.classifiers.trees.J48\n",
       "Cross-validation Parameter: '-M' ranged from 1.0 to 10.0 with 10.0 steps\n",
       "Cross-validation Parameter: '-C' ranged from 0.05 to 0.25 with 5.0 steps\n",
       "Classifier Options: -M 4 -C 0.25\n",
       "\n",
       "No classifier built"
      ]
     },
     "execution_count": 35,
     "metadata": {},
     "output_type": "execute_result"
    }
   ],
   "source": [
    "clf_C45_jequitinhonha_sociais = classifier_estimate(jequitinhonha_sociais,'weka.classifiers.trees.J48',['M 1 10 10','C 0.05 0.25 5'])\n",
    "clf_C45_jequitinhonha_sociais  "
   ]
  },
  {
   "cell_type": "code",
   "execution_count": 36,
   "id": "80147645",
   "metadata": {},
   "outputs": [
    {
     "data": {
      "text/plain": [
       "Cross-validated Parameter selection.\n",
       "Classifier: weka.classifiers.trees.J48\n",
       "Cross-validation Parameter: '-M' ranged from 1.0 to 10.0 with 10.0 steps\n",
       "Cross-validation Parameter: '-C' ranged from 0.05 to 0.25 with 5.0 steps\n",
       "Classifier Options: -M 3 -C 0.25\n",
       "\n",
       "J48 pruned tree\n",
       "------------------\n",
       "\n",
       "CONSULTAS <= 2: Morto (33.0/3.0)\n",
       "CONSULTAS > 2\n",
       "|   RACACOR <= 2: Vivo (25.0/1.0)\n",
       "|   RACACOR > 2\n",
       "|   |   ESCMAE <= 3: Morto (54.0/22.0)\n",
       "|   |   ESCMAE > 3: Vivo (62.0/24.0)\n",
       "\n",
       "Number of Leaves  : \t4\n",
       "\n",
       "Size of the tree : \t7"
      ]
     },
     "execution_count": 36,
     "metadata": {},
     "output_type": "execute_result"
    }
   ],
   "source": [
    "#Regras Geradas\n",
    "clf_C45_jequitinhonha_biologico.build_classifier(jequitinhonha_sociais)\n",
    "clf_C45_jequitinhonha_sociais"
   ]
  },
  {
   "cell_type": "markdown",
   "id": "75bf7b35",
   "metadata": {},
   "source": [
    "## Algoritmo JRIP"
   ]
  },
  {
   "cell_type": "markdown",
   "id": "cf3bb81b",
   "metadata": {},
   "source": [
    "### Biologico"
   ]
  },
  {
   "cell_type": "code",
   "execution_count": 37,
   "id": "8dd45b2f",
   "metadata": {},
   "outputs": [
    {
     "name": "stdout",
     "output_type": "stream",
     "text": [
      "75.28735632183908\n",
      "\n",
      "Correctly Classified Instances         131               75.2874 %\n",
      "Incorrectly Classified Instances        43               24.7126 %\n",
      "Kappa statistic                          0.5057\n",
      "Mean absolute error                      0.341 \n",
      "Root mean squared error                  0.4334\n",
      "Relative absolute error                 68.1814 %\n",
      "Root relative squared error             86.6638 %\n",
      "Total Number of Instances              174     \n",
      "\n",
      "=== Detailed Accuracy By Class ===\n",
      "\n",
      "                 TP Rate  FP Rate  Precision  Recall   F-Measure  MCC      ROC Area  PRC Area  Class\n",
      "                 0,632    0,126    0,833      0,632    0,719      0,521    0,743     0,750     Morto\n",
      "                 0,874    0,368    0,704      0,874    0,779      0,521    0,743     0,670     Vivo\n",
      "Weighted Avg.    0,753    0,247    0,769      0,753    0,749      0,521    0,743     0,710     \n",
      "\n",
      "=== Confusion Matrix ===\n",
      "\n",
      "  a  b   <-- classified as\n",
      " 55 32 |  a = Morto\n",
      " 11 76 |  b = Vivo\n",
      "\n"
     ]
    },
    {
     "data": {
      "text/plain": [
       "Cross-validated Parameter selection.\n",
       "Classifier: weka.classifiers.rules.JRip\n",
       "Classifier Options: -M 3 -C 0.25\n",
       "\n",
       "JRIP: No model built yet."
      ]
     },
     "execution_count": 37,
     "metadata": {},
     "output_type": "execute_result"
    }
   ],
   "source": [
    "clf_JRip_jequitinhonha_biologico = classifier_estimate(jequitinhonha_biologico, \"weka.classifiers.rules.JRip\")\n",
    "clf_JRip_jequitinhonha_biologico"
   ]
  },
  {
   "cell_type": "code",
   "execution_count": 38,
   "id": "1d4b453c",
   "metadata": {},
   "outputs": [
    {
     "data": {
      "text/plain": [
       "Cross-validated Parameter selection.\n",
       "Classifier: weka.classifiers.rules.JRip\n",
       "Classifier Options: -F 3 -N 2.0 -O 2 -S 1\n",
       "\n",
       "JRIP rules:\n",
       "===========\n",
       "\n",
       "(GESTACAO >= 5) and (APGAR5 = 0 a 2) and (SEXO >= 2) => CLASS=Vivo (33.0/3.0)\n",
       "(GESTACAO >= 5) and (IDANOMAL >= 2) => CLASS=Vivo (80.0/28.0)\n",
       " => CLASS=Morto (61.0/5.0)\n",
       "\n",
       "Number of Rules : 3"
      ]
     },
     "execution_count": 38,
     "metadata": {},
     "output_type": "execute_result"
    }
   ],
   "source": [
    "#Regras Geradas\n",
    "clf_JRip_jequitinhonha_biologico.build_classifier(jequitinhonha_biologico)\n",
    "clf_JRip_jequitinhonha_biologico"
   ]
  },
  {
   "cell_type": "markdown",
   "id": "6ebcbe22",
   "metadata": {},
   "source": [
    "### Sociais"
   ]
  },
  {
   "cell_type": "code",
   "execution_count": 39,
   "id": "dc7bee5f",
   "metadata": {},
   "outputs": [
    {
     "name": "stdout",
     "output_type": "stream",
     "text": [
      "63.793103448275865\n",
      "\n",
      "Correctly Classified Instances         111               63.7931 %\n",
      "Incorrectly Classified Instances        63               36.2069 %\n",
      "Kappa statistic                          0.2759\n",
      "Mean absolute error                      0.4347\n",
      "Root mean squared error                  0.4808\n",
      "Relative absolute error                 86.9112 %\n",
      "Root relative squared error             96.137  %\n",
      "Total Number of Instances              174     \n",
      "\n",
      "=== Detailed Accuracy By Class ===\n",
      "\n",
      "                 TP Rate  FP Rate  Precision  Recall   F-Measure  MCC      ROC Area  PRC Area  Class\n",
      "                 0,621    0,345    0,643      0,621    0,632      0,276    0,660     0,647     Morto\n",
      "                 0,655    0,379    0,633      0,655    0,644      0,276    0,660     0,634     Vivo\n",
      "Weighted Avg.    0,638    0,362    0,638      0,638    0,638      0,276    0,660     0,641     \n",
      "\n",
      "=== Confusion Matrix ===\n",
      "\n",
      "  a  b   <-- classified as\n",
      " 54 33 |  a = Morto\n",
      " 30 57 |  b = Vivo\n",
      "\n"
     ]
    },
    {
     "data": {
      "text/plain": [
       "Cross-validated Parameter selection.\n",
       "Classifier: weka.classifiers.rules.JRip\n",
       "Classifier Options: -F 3 -N 2.0 -O 2 -S 1\n",
       "\n",
       "JRIP: No model built yet."
      ]
     },
     "execution_count": 39,
     "metadata": {},
     "output_type": "execute_result"
    }
   ],
   "source": [
    "clf_JRip_jequitinhonha_sociais = classifier_estimate(jequitinhonha_sociais, \"weka.classifiers.rules.JRip\")\n",
    "clf_JRip_jequitinhonha_sociais"
   ]
  },
  {
   "cell_type": "code",
   "execution_count": 40,
   "id": "70415bdd",
   "metadata": {},
   "outputs": [
    {
     "data": {
      "text/plain": [
       "Cross-validated Parameter selection.\n",
       "Classifier: weka.classifiers.rules.JRip\n",
       "Classifier Options: -F 3 -N 2.0 -O 2 -S 1\n",
       "\n",
       "JRIP rules:\n",
       "===========\n",
       "\n",
       "(CONSULTAS <= 2) => CLASS=Morto (33.0/3.0)\n",
       "(ESCMAE <= 3) and (ESTCIVMAE <= 2) => CLASS=Morto (46.0/18.0)\n",
       " => CLASS=Vivo (95.0/29.0)\n",
       "\n",
       "Number of Rules : 3"
      ]
     },
     "execution_count": 40,
     "metadata": {},
     "output_type": "execute_result"
    }
   ],
   "source": [
    "#Regras Geradas\n",
    "clf_JRip_jequitinhonha_sociais.build_classifier(jequitinhonha_sociais)\n",
    "clf_JRip_jequitinhonha_sociais"
   ]
  },
  {
   "cell_type": "markdown",
   "id": "55f1bc1a",
   "metadata": {},
   "source": [
    "# Algoritmo Apriori"
   ]
  },
  {
   "cell_type": "code",
   "execution_count": 41,
   "id": "f367530d",
   "metadata": {},
   "outputs": [
    {
     "name": "stdout",
     "output_type": "stream",
     "text": [
      "Requirement already satisfied: mlxtend in /home/isaac/anaconda3/lib/python3.8/site-packages (0.19.0)\n",
      "Requirement already satisfied: pandas>=0.24.2 in /home/isaac/.local/lib/python3.8/site-packages (from mlxtend) (1.3.0)\n",
      "Requirement already satisfied: joblib>=0.13.2 in /home/isaac/anaconda3/lib/python3.8/site-packages (from mlxtend) (1.0.1)\n",
      "Requirement already satisfied: scipy>=1.2.1 in /home/isaac/.local/lib/python3.8/site-packages (from mlxtend) (1.6.3)\n",
      "Requirement already satisfied: setuptools in /home/isaac/anaconda3/lib/python3.8/site-packages (from mlxtend) (52.0.0.post20210125)\n",
      "Requirement already satisfied: scikit-learn>=0.20.3 in /home/isaac/anaconda3/lib/python3.8/site-packages (from mlxtend) (0.24.1)\n",
      "Requirement already satisfied: numpy>=1.16.2 in /home/isaac/.local/lib/python3.8/site-packages (from mlxtend) (1.19.5)\n",
      "Requirement already satisfied: matplotlib>=3.0.0 in /home/isaac/anaconda3/lib/python3.8/site-packages (from mlxtend) (3.3.4)\n",
      "Requirement already satisfied: pillow>=6.2.0 in /home/isaac/anaconda3/lib/python3.8/site-packages (from matplotlib>=3.0.0->mlxtend) (8.2.0)\n",
      "Requirement already satisfied: python-dateutil>=2.1 in /home/isaac/anaconda3/lib/python3.8/site-packages (from matplotlib>=3.0.0->mlxtend) (2.8.0)\n",
      "Requirement already satisfied: cycler>=0.10 in /home/isaac/anaconda3/lib/python3.8/site-packages (from matplotlib>=3.0.0->mlxtend) (0.10.0)\n",
      "Requirement already satisfied: pyparsing!=2.0.4,!=2.1.2,!=2.1.6,>=2.0.3 in /home/isaac/.local/lib/python3.8/site-packages (from matplotlib>=3.0.0->mlxtend) (2.4.7)\n",
      "Requirement already satisfied: kiwisolver>=1.0.1 in /home/isaac/anaconda3/lib/python3.8/site-packages (from matplotlib>=3.0.0->mlxtend) (1.3.1)\n",
      "Requirement already satisfied: six in /home/isaac/.local/lib/python3.8/site-packages (from cycler>=0.10->matplotlib>=3.0.0->mlxtend) (1.15.0)\n",
      "Requirement already satisfied: pytz>=2017.3 in /home/isaac/anaconda3/lib/python3.8/site-packages (from pandas>=0.24.2->mlxtend) (2021.1)\n",
      "Requirement already satisfied: threadpoolctl>=2.0.0 in /home/isaac/anaconda3/lib/python3.8/site-packages (from scikit-learn>=0.20.3->mlxtend) (2.1.0)\n"
     ]
    },
    {
     "name": "stderr",
     "output_type": "stream",
     "text": [
      "<ipython-input-41-730effd2ef1d>:6: FutureWarning: Passing a negative integer is deprecated in version 1.0 and will not be supported in future version. Instead, use None to not limit the column width.\n",
      "  pd.set_option('max_colwidth', -1)\n"
     ]
    }
   ],
   "source": [
    "!pip3 install mlxtend\n",
    "from mlxtend.frequent_patterns import apriori, association_rules\n",
    "\n",
    "pd.set_option('display.max_columns', None)\n",
    "pd.set_option('display.expand_frame_repr', False)\n",
    "pd.set_option('max_colwidth', -1)"
   ]
  },
  {
   "cell_type": "code",
   "execution_count": 42,
   "id": "5f3c49a5",
   "metadata": {},
   "outputs": [],
   "source": [
    "class Apriori:\n",
    "    \"\"\"Apriori Class. Its has Apriori steps.\"\"\"\n",
    "    threshold = 0.5\n",
    "    df = None\n",
    "\n",
    "    def __init__(self, df, threshold=None, transform_bol=False):\n",
    "\n",
    "        self._validate_df(df)\n",
    "\n",
    "        self.df = df\n",
    "        if threshold is not None:\n",
    "            self.threshold = threshold\n",
    "\n",
    "        if transform_bol:\n",
    "            self._transform_bol()\n",
    "\n",
    "    def _validate_df(self, df=None):\n",
    "\n",
    "        if df is None:\n",
    "            raise Exception(\"df must be a valid pandas.DataDrame.\")\n",
    "\n",
    "\n",
    "    def _transform_bol(self):\n",
    "\n",
    "        for column in self.df.columns:\n",
    "            self.df[column] = self.df[column].apply(lambda x: True if x == 1 else False)\n",
    "\n",
    "\n",
    "    def _apriori(self, use_colnames=False, max_len=None, count=True):\n",
    "\n",
    "        apriori_df = apriori(\n",
    "                    self.df, \n",
    "                    min_support=self.threshold,\n",
    "                    use_colnames=use_colnames, \n",
    "                    max_len=max_len\n",
    "                )\n",
    "        if count:\n",
    "            apriori_df['length'] = apriori_df['itemsets'].apply(lambda x: len(x))\n",
    "\n",
    "        return apriori_df\n",
    "\n",
    "    def run(self, use_colnames=False, max_len=None, count=True):\n",
    "\n",
    "        return self._apriori(\n",
    "                        use_colnames=use_colnames,\n",
    "                        max_len=max_len,\n",
    "                        count=count\n",
    "                    )\n",
    "\n",
    "    def filter(self, apriori_df, length, threshold):\n",
    "        \n",
    "        if 'length' not in apriori_df.columns:\n",
    "            raise Exception(\"apriori_df has no length. Please run the Apriori with count=True.\")\n",
    "\n",
    "        return apriori_df[ (apriori_df['length'] == length) & (apriori_df['support'] >= threshold) ]"
   ]
  },
  {
   "cell_type": "markdown",
   "id": "480fb0d1",
   "metadata": {},
   "source": [
    "### Biologico"
   ]
  },
  {
   "cell_type": "code",
   "execution_count": 43,
   "id": "70a8c2c3",
   "metadata": {},
   "outputs": [
    {
     "name": "stderr",
     "output_type": "stream",
     "text": [
      "/home/isaac/.local/lib/python3.8/site-packages/pandas/core/frame.py:4901: SettingWithCopyWarning: \n",
      "A value is trying to be set on a copy of a slice from a DataFrame\n",
      "\n",
      "See the caveats in the documentation: https://pandas.pydata.org/pandas-docs/stable/user_guide/indexing.html#returning-a-view-versus-a-copy\n",
      "  return super().drop(\n"
     ]
    }
   ],
   "source": [
    "jequitinhonha_biologico_morto = jequitinhonha_biologico_df[jequitinhonha_biologico_df['CLASS']=='Morto']\n",
    "jequitinhonha_biologico_morto.drop('CLASS', axis=True, inplace=True)\n",
    "\n",
    "jequitinhonha_biologico_vivo = jequitinhonha_biologico_df[jequitinhonha_biologico_df['CLASS']=='Vivo']\n",
    "jequitinhonha_biologico_vivo.drop('CLASS', axis=True, inplace=True)\n",
    "\n",
    "jequitinhonha_biologico_encod_vivo = pd.get_dummies(jequitinhonha_biologico_vivo.astype(str))\n",
    "jequitinhonha_biologico_encod_morto = pd.get_dummies(jequitinhonha_biologico_morto.astype(str))"
   ]
  },
  {
   "cell_type": "markdown",
   "id": "8d69de3c",
   "metadata": {},
   "source": [
    "#### Vivo"
   ]
  },
  {
   "cell_type": "code",
   "execution_count": 44,
   "id": "29ddf4fe",
   "metadata": {},
   "outputs": [
    {
     "data": {
      "text/html": [
       "<div>\n",
       "<style scoped>\n",
       "    .dataframe tbody tr th:only-of-type {\n",
       "        vertical-align: middle;\n",
       "    }\n",
       "\n",
       "    .dataframe tbody tr th {\n",
       "        vertical-align: top;\n",
       "    }\n",
       "\n",
       "    .dataframe thead th {\n",
       "        text-align: right;\n",
       "    }\n",
       "</style>\n",
       "<table border=\"1\" class=\"dataframe\">\n",
       "  <thead>\n",
       "    <tr style=\"text-align: right;\">\n",
       "      <th></th>\n",
       "      <th>support</th>\n",
       "      <th>itemsets</th>\n",
       "      <th>length</th>\n",
       "    </tr>\n",
       "  </thead>\n",
       "  <tbody>\n",
       "    <tr>\n",
       "      <th>7</th>\n",
       "      <td>0.988506</td>\n",
       "      <td>(IDANOMAL_Não)</td>\n",
       "      <td>1</td>\n",
       "    </tr>\n",
       "    <tr>\n",
       "      <th>6</th>\n",
       "      <td>0.965517</td>\n",
       "      <td>(GRAVIDEZ_Única)</td>\n",
       "      <td>1</td>\n",
       "    </tr>\n",
       "    <tr>\n",
       "      <th>24</th>\n",
       "      <td>0.954023</td>\n",
       "      <td>(GRAVIDEZ_Única, IDANOMAL_Não)</td>\n",
       "      <td>2</td>\n",
       "    </tr>\n",
       "    <tr>\n",
       "      <th>4</th>\n",
       "      <td>0.850575</td>\n",
       "      <td>(GESTACAO_37 a 41 semanas)</td>\n",
       "      <td>1</td>\n",
       "    </tr>\n",
       "    <tr>\n",
       "      <th>21</th>\n",
       "      <td>0.839080</td>\n",
       "      <td>(GESTACAO_37 a 41 semanas, IDANOMAL_Não)</td>\n",
       "      <td>2</td>\n",
       "    </tr>\n",
       "    <tr>\n",
       "      <th>20</th>\n",
       "      <td>0.827586</td>\n",
       "      <td>(GESTACAO_37 a 41 semanas, GRAVIDEZ_Única)</td>\n",
       "      <td>2</td>\n",
       "    </tr>\n",
       "    <tr>\n",
       "      <th>36</th>\n",
       "      <td>0.816092</td>\n",
       "      <td>(GESTACAO_37 a 41 semanas, GRAVIDEZ_Única, IDANOMAL_Não)</td>\n",
       "      <td>3</td>\n",
       "    </tr>\n",
       "    <tr>\n",
       "      <th>5</th>\n",
       "      <td>0.701149</td>\n",
       "      <td>(PARTO_Vaginal)</td>\n",
       "      <td>1</td>\n",
       "    </tr>\n",
       "    <tr>\n",
       "      <th>22</th>\n",
       "      <td>0.689655</td>\n",
       "      <td>(PARTO_Vaginal, GRAVIDEZ_Única)</td>\n",
       "      <td>2</td>\n",
       "    </tr>\n",
       "    <tr>\n",
       "      <th>23</th>\n",
       "      <td>0.689655</td>\n",
       "      <td>(PARTO_Vaginal, IDANOMAL_Não)</td>\n",
       "      <td>2</td>\n",
       "    </tr>\n",
       "    <tr>\n",
       "      <th>37</th>\n",
       "      <td>0.678161</td>\n",
       "      <td>(PARTO_Vaginal, GRAVIDEZ_Única, IDANOMAL_Não)</td>\n",
       "      <td>3</td>\n",
       "    </tr>\n",
       "    <tr>\n",
       "      <th>1</th>\n",
       "      <td>0.620690</td>\n",
       "      <td>(APGAR1_5 a 7)</td>\n",
       "      <td>1</td>\n",
       "    </tr>\n",
       "    <tr>\n",
       "      <th>12</th>\n",
       "      <td>0.609195</td>\n",
       "      <td>(APGAR1_5 a 7, GRAVIDEZ_Única)</td>\n",
       "      <td>2</td>\n",
       "    </tr>\n",
       "    <tr>\n",
       "      <th>13</th>\n",
       "      <td>0.609195</td>\n",
       "      <td>(APGAR1_5 a 7, IDANOMAL_Não)</td>\n",
       "      <td>2</td>\n",
       "    </tr>\n",
       "    <tr>\n",
       "      <th>19</th>\n",
       "      <td>0.609195</td>\n",
       "      <td>(PARTO_Vaginal, GESTACAO_37 a 41 semanas)</td>\n",
       "      <td>2</td>\n",
       "    </tr>\n",
       "    <tr>\n",
       "      <th>30</th>\n",
       "      <td>0.597701</td>\n",
       "      <td>(APGAR1_5 a 7, GRAVIDEZ_Única, IDANOMAL_Não)</td>\n",
       "      <td>3</td>\n",
       "    </tr>\n",
       "    <tr>\n",
       "      <th>35</th>\n",
       "      <td>0.597701</td>\n",
       "      <td>(PARTO_Vaginal, GESTACAO_37 a 41 semanas, IDANOMAL_Não)</td>\n",
       "      <td>3</td>\n",
       "    </tr>\n",
       "    <tr>\n",
       "      <th>34</th>\n",
       "      <td>0.597701</td>\n",
       "      <td>(PARTO_Vaginal, GESTACAO_37 a 41 semanas, GRAVIDEZ_Única)</td>\n",
       "      <td>3</td>\n",
       "    </tr>\n",
       "    <tr>\n",
       "      <th>40</th>\n",
       "      <td>0.586207</td>\n",
       "      <td>(PARTO_Vaginal, GESTACAO_37 a 41 semanas, GRAVIDEZ_Única, IDANOMAL_Não)</td>\n",
       "      <td>4</td>\n",
       "    </tr>\n",
       "    <tr>\n",
       "      <th>0</th>\n",
       "      <td>0.563218</td>\n",
       "      <td>(PESO_3000 a 3999)</td>\n",
       "      <td>1</td>\n",
       "    </tr>\n",
       "    <tr>\n",
       "      <th>16</th>\n",
       "      <td>0.563218</td>\n",
       "      <td>(APGAR5_0 a 2, IDANOMAL_Não)</td>\n",
       "      <td>2</td>\n",
       "    </tr>\n",
       "    <tr>\n",
       "      <th>2</th>\n",
       "      <td>0.563218</td>\n",
       "      <td>(APGAR5_0 a 2)</td>\n",
       "      <td>1</td>\n",
       "    </tr>\n",
       "    <tr>\n",
       "      <th>9</th>\n",
       "      <td>0.563218</td>\n",
       "      <td>(GRAVIDEZ_Única, PESO_3000 a 3999)</td>\n",
       "      <td>2</td>\n",
       "    </tr>\n",
       "    <tr>\n",
       "      <th>27</th>\n",
       "      <td>0.551724</td>\n",
       "      <td>(GRAVIDEZ_Única, IDANOMAL_Não, PESO_3000 a 3999)</td>\n",
       "      <td>3</td>\n",
       "    </tr>\n",
       "    <tr>\n",
       "      <th>10</th>\n",
       "      <td>0.551724</td>\n",
       "      <td>(IDANOMAL_Não, PESO_3000 a 3999)</td>\n",
       "      <td>2</td>\n",
       "    </tr>\n",
       "    <tr>\n",
       "      <th>11</th>\n",
       "      <td>0.540230</td>\n",
       "      <td>(APGAR1_5 a 7, GESTACAO_37 a 41 semanas)</td>\n",
       "      <td>2</td>\n",
       "    </tr>\n",
       "    <tr>\n",
       "      <th>32</th>\n",
       "      <td>0.540230</td>\n",
       "      <td>(GRAVIDEZ_Única, APGAR5_0 a 2, IDANOMAL_Não)</td>\n",
       "      <td>3</td>\n",
       "    </tr>\n",
       "    <tr>\n",
       "      <th>15</th>\n",
       "      <td>0.540230</td>\n",
       "      <td>(GRAVIDEZ_Única, APGAR5_0 a 2)</td>\n",
       "      <td>2</td>\n",
       "    </tr>\n",
       "    <tr>\n",
       "      <th>28</th>\n",
       "      <td>0.528736</td>\n",
       "      <td>(APGAR1_5 a 7, GESTACAO_37 a 41 semanas, GRAVIDEZ_Única)</td>\n",
       "      <td>3</td>\n",
       "    </tr>\n",
       "    <tr>\n",
       "      <th>29</th>\n",
       "      <td>0.528736</td>\n",
       "      <td>(APGAR1_5 a 7, GESTACAO_37 a 41 semanas, IDANOMAL_Não)</td>\n",
       "      <td>3</td>\n",
       "    </tr>\n",
       "    <tr>\n",
       "      <th>25</th>\n",
       "      <td>0.517241</td>\n",
       "      <td>(GESTACAO_37 a 41 semanas, GRAVIDEZ_Única, PESO_3000 a 3999)</td>\n",
       "      <td>3</td>\n",
       "    </tr>\n",
       "    <tr>\n",
       "      <th>8</th>\n",
       "      <td>0.517241</td>\n",
       "      <td>(GESTACAO_37 a 41 semanas, PESO_3000 a 3999)</td>\n",
       "      <td>2</td>\n",
       "    </tr>\n",
       "    <tr>\n",
       "      <th>3</th>\n",
       "      <td>0.517241</td>\n",
       "      <td>(SEXO_Feminino)</td>\n",
       "      <td>1</td>\n",
       "    </tr>\n",
       "    <tr>\n",
       "      <th>39</th>\n",
       "      <td>0.517241</td>\n",
       "      <td>(APGAR1_5 a 7, GESTACAO_37 a 41 semanas, GRAVIDEZ_Única, IDANOMAL_Não)</td>\n",
       "      <td>4</td>\n",
       "    </tr>\n",
       "    <tr>\n",
       "      <th>18</th>\n",
       "      <td>0.517241</td>\n",
       "      <td>(SEXO_Feminino, IDANOMAL_Não)</td>\n",
       "      <td>2</td>\n",
       "    </tr>\n",
       "    <tr>\n",
       "      <th>26</th>\n",
       "      <td>0.505747</td>\n",
       "      <td>(GESTACAO_37 a 41 semanas, IDANOMAL_Não, PESO_3000 a 3999)</td>\n",
       "      <td>3</td>\n",
       "    </tr>\n",
       "    <tr>\n",
       "      <th>17</th>\n",
       "      <td>0.505747</td>\n",
       "      <td>(SEXO_Feminino, GRAVIDEZ_Única)</td>\n",
       "      <td>2</td>\n",
       "    </tr>\n",
       "    <tr>\n",
       "      <th>31</th>\n",
       "      <td>0.505747</td>\n",
       "      <td>(GESTACAO_37 a 41 semanas, APGAR5_0 a 2, IDANOMAL_Não)</td>\n",
       "      <td>3</td>\n",
       "    </tr>\n",
       "    <tr>\n",
       "      <th>33</th>\n",
       "      <td>0.505747</td>\n",
       "      <td>(SEXO_Feminino, GRAVIDEZ_Única, IDANOMAL_Não)</td>\n",
       "      <td>3</td>\n",
       "    </tr>\n",
       "    <tr>\n",
       "      <th>14</th>\n",
       "      <td>0.505747</td>\n",
       "      <td>(GESTACAO_37 a 41 semanas, APGAR5_0 a 2)</td>\n",
       "      <td>2</td>\n",
       "    </tr>\n",
       "    <tr>\n",
       "      <th>38</th>\n",
       "      <td>0.505747</td>\n",
       "      <td>(GESTACAO_37 a 41 semanas, GRAVIDEZ_Única, IDANOMAL_Não, PESO_3000 a 3999)</td>\n",
       "      <td>4</td>\n",
       "    </tr>\n",
       "  </tbody>\n",
       "</table>\n",
       "</div>"
      ],
      "text/plain": [
       "     support                                                                    itemsets  length\n",
       "7   0.988506  (IDANOMAL_Não)                                                              1     \n",
       "6   0.965517  (GRAVIDEZ_Única)                                                            1     \n",
       "24  0.954023  (GRAVIDEZ_Única, IDANOMAL_Não)                                              2     \n",
       "4   0.850575  (GESTACAO_37 a 41 semanas)                                                  1     \n",
       "21  0.839080  (GESTACAO_37 a 41 semanas, IDANOMAL_Não)                                    2     \n",
       "20  0.827586  (GESTACAO_37 a 41 semanas, GRAVIDEZ_Única)                                  2     \n",
       "36  0.816092  (GESTACAO_37 a 41 semanas, GRAVIDEZ_Única, IDANOMAL_Não)                    3     \n",
       "5   0.701149  (PARTO_Vaginal)                                                             1     \n",
       "22  0.689655  (PARTO_Vaginal, GRAVIDEZ_Única)                                             2     \n",
       "23  0.689655  (PARTO_Vaginal, IDANOMAL_Não)                                               2     \n",
       "37  0.678161  (PARTO_Vaginal, GRAVIDEZ_Única, IDANOMAL_Não)                               3     \n",
       "1   0.620690  (APGAR1_5 a 7)                                                              1     \n",
       "12  0.609195  (APGAR1_5 a 7, GRAVIDEZ_Única)                                              2     \n",
       "13  0.609195  (APGAR1_5 a 7, IDANOMAL_Não)                                                2     \n",
       "19  0.609195  (PARTO_Vaginal, GESTACAO_37 a 41 semanas)                                   2     \n",
       "30  0.597701  (APGAR1_5 a 7, GRAVIDEZ_Única, IDANOMAL_Não)                                3     \n",
       "35  0.597701  (PARTO_Vaginal, GESTACAO_37 a 41 semanas, IDANOMAL_Não)                     3     \n",
       "34  0.597701  (PARTO_Vaginal, GESTACAO_37 a 41 semanas, GRAVIDEZ_Única)                   3     \n",
       "40  0.586207  (PARTO_Vaginal, GESTACAO_37 a 41 semanas, GRAVIDEZ_Única, IDANOMAL_Não)     4     \n",
       "0   0.563218  (PESO_3000 a 3999)                                                          1     \n",
       "16  0.563218  (APGAR5_0 a 2, IDANOMAL_Não)                                                2     \n",
       "2   0.563218  (APGAR5_0 a 2)                                                              1     \n",
       "9   0.563218  (GRAVIDEZ_Única, PESO_3000 a 3999)                                          2     \n",
       "27  0.551724  (GRAVIDEZ_Única, IDANOMAL_Não, PESO_3000 a 3999)                            3     \n",
       "10  0.551724  (IDANOMAL_Não, PESO_3000 a 3999)                                            2     \n",
       "11  0.540230  (APGAR1_5 a 7, GESTACAO_37 a 41 semanas)                                    2     \n",
       "32  0.540230  (GRAVIDEZ_Única, APGAR5_0 a 2, IDANOMAL_Não)                                3     \n",
       "15  0.540230  (GRAVIDEZ_Única, APGAR5_0 a 2)                                              2     \n",
       "28  0.528736  (APGAR1_5 a 7, GESTACAO_37 a 41 semanas, GRAVIDEZ_Única)                    3     \n",
       "29  0.528736  (APGAR1_5 a 7, GESTACAO_37 a 41 semanas, IDANOMAL_Não)                      3     \n",
       "25  0.517241  (GESTACAO_37 a 41 semanas, GRAVIDEZ_Única, PESO_3000 a 3999)                3     \n",
       "8   0.517241  (GESTACAO_37 a 41 semanas, PESO_3000 a 3999)                                2     \n",
       "3   0.517241  (SEXO_Feminino)                                                             1     \n",
       "39  0.517241  (APGAR1_5 a 7, GESTACAO_37 a 41 semanas, GRAVIDEZ_Única, IDANOMAL_Não)      4     \n",
       "18  0.517241  (SEXO_Feminino, IDANOMAL_Não)                                               2     \n",
       "26  0.505747  (GESTACAO_37 a 41 semanas, IDANOMAL_Não, PESO_3000 a 3999)                  3     \n",
       "17  0.505747  (SEXO_Feminino, GRAVIDEZ_Única)                                             2     \n",
       "31  0.505747  (GESTACAO_37 a 41 semanas, APGAR5_0 a 2, IDANOMAL_Não)                      3     \n",
       "33  0.505747  (SEXO_Feminino, GRAVIDEZ_Única, IDANOMAL_Não)                               3     \n",
       "14  0.505747  (GESTACAO_37 a 41 semanas, APGAR5_0 a 2)                                    2     \n",
       "38  0.505747  (GESTACAO_37 a 41 semanas, GRAVIDEZ_Única, IDANOMAL_Não, PESO_3000 a 3999)  4     "
      ]
     },
     "execution_count": 44,
     "metadata": {},
     "output_type": "execute_result"
    }
   ],
   "source": [
    "apriori_runner_bio_vivo = Apriori(jequitinhonha_biologico_encod_vivo, threshold=0.5, transform_bol=True)\n",
    "apriori_df_bio_vivo = apriori_runner_bio_vivo.run(use_colnames=True)\n",
    "apriori_df_bio_vivo.sort_values(by=['support'], ascending=False)"
   ]
  },
  {
   "cell_type": "code",
   "execution_count": 45,
   "id": "d6960b77",
   "metadata": {},
   "outputs": [
    {
     "data": {
      "text/html": [
       "<div>\n",
       "<style scoped>\n",
       "    .dataframe tbody tr th:only-of-type {\n",
       "        vertical-align: middle;\n",
       "    }\n",
       "\n",
       "    .dataframe tbody tr th {\n",
       "        vertical-align: top;\n",
       "    }\n",
       "\n",
       "    .dataframe thead th {\n",
       "        text-align: right;\n",
       "    }\n",
       "</style>\n",
       "<table border=\"1\" class=\"dataframe\">\n",
       "  <thead>\n",
       "    <tr style=\"text-align: right;\">\n",
       "      <th></th>\n",
       "      <th>antecedents</th>\n",
       "      <th>consequents</th>\n",
       "      <th>antecedent support</th>\n",
       "      <th>consequent support</th>\n",
       "      <th>support</th>\n",
       "      <th>confidence</th>\n",
       "      <th>lift</th>\n",
       "      <th>leverage</th>\n",
       "      <th>conviction</th>\n",
       "    </tr>\n",
       "  </thead>\n",
       "  <tbody>\n",
       "    <tr>\n",
       "      <th>34</th>\n",
       "      <td>(GESTACAO_37 a 41 semanas, GRAVIDEZ_Única)</td>\n",
       "      <td>(PESO_3000 a 3999)</td>\n",
       "      <td>0.827586</td>\n",
       "      <td>0.563218</td>\n",
       "      <td>0.517241</td>\n",
       "      <td>0.625000</td>\n",
       "      <td>1.109694</td>\n",
       "      <td>0.051130</td>\n",
       "      <td>1.164751</td>\n",
       "    </tr>\n",
       "    <tr>\n",
       "      <th>39</th>\n",
       "      <td>(PESO_3000 a 3999)</td>\n",
       "      <td>(GESTACAO_37 a 41 semanas, GRAVIDEZ_Única)</td>\n",
       "      <td>0.563218</td>\n",
       "      <td>0.827586</td>\n",
       "      <td>0.517241</td>\n",
       "      <td>0.918367</td>\n",
       "      <td>1.109694</td>\n",
       "      <td>0.051130</td>\n",
       "      <td>2.112069</td>\n",
       "    </tr>\n",
       "    <tr>\n",
       "      <th>121</th>\n",
       "      <td>(IDANOMAL_Não, PESO_3000 a 3999)</td>\n",
       "      <td>(GESTACAO_37 a 41 semanas, GRAVIDEZ_Única)</td>\n",
       "      <td>0.551724</td>\n",
       "      <td>0.827586</td>\n",
       "      <td>0.505747</td>\n",
       "      <td>0.916667</td>\n",
       "      <td>1.107639</td>\n",
       "      <td>0.049148</td>\n",
       "      <td>2.068966</td>\n",
       "    </tr>\n",
       "    <tr>\n",
       "      <th>116</th>\n",
       "      <td>(GESTACAO_37 a 41 semanas, GRAVIDEZ_Única)</td>\n",
       "      <td>(IDANOMAL_Não, PESO_3000 a 3999)</td>\n",
       "      <td>0.827586</td>\n",
       "      <td>0.551724</td>\n",
       "      <td>0.505747</td>\n",
       "      <td>0.611111</td>\n",
       "      <td>1.107639</td>\n",
       "      <td>0.049148</td>\n",
       "      <td>1.152709</td>\n",
       "    </tr>\n",
       "    <tr>\n",
       "      <th>112</th>\n",
       "      <td>(GESTACAO_37 a 41 semanas, GRAVIDEZ_Única, IDANOMAL_Não)</td>\n",
       "      <td>(PESO_3000 a 3999)</td>\n",
       "      <td>0.816092</td>\n",
       "      <td>0.563218</td>\n",
       "      <td>0.505747</td>\n",
       "      <td>0.619718</td>\n",
       "      <td>1.100316</td>\n",
       "      <td>0.046109</td>\n",
       "      <td>1.148574</td>\n",
       "    </tr>\n",
       "    <tr>\n",
       "      <th>...</th>\n",
       "      <td>...</td>\n",
       "      <td>...</td>\n",
       "      <td>...</td>\n",
       "      <td>...</td>\n",
       "      <td>...</td>\n",
       "      <td>...</td>\n",
       "      <td>...</td>\n",
       "      <td>...</td>\n",
       "      <td>...</td>\n",
       "    </tr>\n",
       "    <tr>\n",
       "      <th>126</th>\n",
       "      <td>(APGAR1_5 a 7, GESTACAO_37 a 41 semanas, GRAVIDEZ_Única)</td>\n",
       "      <td>(IDANOMAL_Não)</td>\n",
       "      <td>0.528736</td>\n",
       "      <td>0.988506</td>\n",
       "      <td>0.517241</td>\n",
       "      <td>0.978261</td>\n",
       "      <td>0.989636</td>\n",
       "      <td>-0.005417</td>\n",
       "      <td>0.528736</td>\n",
       "    </tr>\n",
       "    <tr>\n",
       "      <th>41</th>\n",
       "      <td>(GESTACAO_37 a 41 semanas, PESO_3000 a 3999)</td>\n",
       "      <td>(IDANOMAL_Não)</td>\n",
       "      <td>0.517241</td>\n",
       "      <td>0.988506</td>\n",
       "      <td>0.505747</td>\n",
       "      <td>0.977778</td>\n",
       "      <td>0.989147</td>\n",
       "      <td>-0.005549</td>\n",
       "      <td>0.517241</td>\n",
       "    </tr>\n",
       "    <tr>\n",
       "      <th>113</th>\n",
       "      <td>(GESTACAO_37 a 41 semanas, GRAVIDEZ_Única, PESO_3000 a 3999)</td>\n",
       "      <td>(IDANOMAL_Não)</td>\n",
       "      <td>0.517241</td>\n",
       "      <td>0.988506</td>\n",
       "      <td>0.505747</td>\n",
       "      <td>0.977778</td>\n",
       "      <td>0.989147</td>\n",
       "      <td>-0.005549</td>\n",
       "      <td>0.517241</td>\n",
       "    </tr>\n",
       "    <tr>\n",
       "      <th>44</th>\n",
       "      <td>(IDANOMAL_Não)</td>\n",
       "      <td>(GESTACAO_37 a 41 semanas, PESO_3000 a 3999)</td>\n",
       "      <td>0.988506</td>\n",
       "      <td>0.517241</td>\n",
       "      <td>0.505747</td>\n",
       "      <td>0.511628</td>\n",
       "      <td>0.989147</td>\n",
       "      <td>-0.005549</td>\n",
       "      <td>0.988506</td>\n",
       "    </tr>\n",
       "    <tr>\n",
       "      <th>124</th>\n",
       "      <td>(IDANOMAL_Não)</td>\n",
       "      <td>(GESTACAO_37 a 41 semanas, GRAVIDEZ_Única, PESO_3000 a 3999)</td>\n",
       "      <td>0.988506</td>\n",
       "      <td>0.517241</td>\n",
       "      <td>0.505747</td>\n",
       "      <td>0.511628</td>\n",
       "      <td>0.989147</td>\n",
       "      <td>-0.005549</td>\n",
       "      <td>0.988506</td>\n",
       "    </tr>\n",
       "  </tbody>\n",
       "</table>\n",
       "<p>154 rows × 9 columns</p>\n",
       "</div>"
      ],
      "text/plain": [
       "                                                      antecedents                                                   consequents  antecedent support  consequent support   support  confidence      lift  leverage  conviction\n",
       "34   (GESTACAO_37 a 41 semanas, GRAVIDEZ_Única)                    (PESO_3000 a 3999)                                            0.827586            0.563218            0.517241  0.625000    1.109694  0.051130  1.164751  \n",
       "39   (PESO_3000 a 3999)                                            (GESTACAO_37 a 41 semanas, GRAVIDEZ_Única)                    0.563218            0.827586            0.517241  0.918367    1.109694  0.051130  2.112069  \n",
       "121  (IDANOMAL_Não, PESO_3000 a 3999)                              (GESTACAO_37 a 41 semanas, GRAVIDEZ_Única)                    0.551724            0.827586            0.505747  0.916667    1.107639  0.049148  2.068966  \n",
       "116  (GESTACAO_37 a 41 semanas, GRAVIDEZ_Única)                    (IDANOMAL_Não, PESO_3000 a 3999)                              0.827586            0.551724            0.505747  0.611111    1.107639  0.049148  1.152709  \n",
       "112  (GESTACAO_37 a 41 semanas, GRAVIDEZ_Única, IDANOMAL_Não)      (PESO_3000 a 3999)                                            0.816092            0.563218            0.505747  0.619718    1.100316  0.046109  1.148574  \n",
       "..                                                        ...                     ...                                                 ...                 ...                 ...       ...         ...       ...       ...  \n",
       "126  (APGAR1_5 a 7, GESTACAO_37 a 41 semanas, GRAVIDEZ_Única)      (IDANOMAL_Não)                                                0.528736            0.988506            0.517241  0.978261    0.989636 -0.005417  0.528736  \n",
       "41   (GESTACAO_37 a 41 semanas, PESO_3000 a 3999)                  (IDANOMAL_Não)                                                0.517241            0.988506            0.505747  0.977778    0.989147 -0.005549  0.517241  \n",
       "113  (GESTACAO_37 a 41 semanas, GRAVIDEZ_Única, PESO_3000 a 3999)  (IDANOMAL_Não)                                                0.517241            0.988506            0.505747  0.977778    0.989147 -0.005549  0.517241  \n",
       "44   (IDANOMAL_Não)                                                (GESTACAO_37 a 41 semanas, PESO_3000 a 3999)                  0.988506            0.517241            0.505747  0.511628    0.989147 -0.005549  0.988506  \n",
       "124  (IDANOMAL_Não)                                                (GESTACAO_37 a 41 semanas, GRAVIDEZ_Única, PESO_3000 a 3999)  0.988506            0.517241            0.505747  0.511628    0.989147 -0.005549  0.988506  \n",
       "\n",
       "[154 rows x 9 columns]"
      ]
     },
     "execution_count": 45,
     "metadata": {},
     "output_type": "execute_result"
    }
   ],
   "source": [
    "rules_bio_vivo = association_rules(apriori_df_bio_vivo, metric='confidence', min_threshold=0.5)\n",
    "rules_bio_vivo.sort_values(by=['lift'], ascending=False)"
   ]
  },
  {
   "cell_type": "markdown",
   "id": "b50b10e6",
   "metadata": {},
   "source": [
    "#### Morto"
   ]
  },
  {
   "cell_type": "code",
   "execution_count": 46,
   "id": "cf02bae0",
   "metadata": {},
   "outputs": [
    {
     "data": {
      "text/html": [
       "<div>\n",
       "<style scoped>\n",
       "    .dataframe tbody tr th:only-of-type {\n",
       "        vertical-align: middle;\n",
       "    }\n",
       "\n",
       "    .dataframe tbody tr th {\n",
       "        vertical-align: top;\n",
       "    }\n",
       "\n",
       "    .dataframe thead th {\n",
       "        text-align: right;\n",
       "    }\n",
       "</style>\n",
       "<table border=\"1\" class=\"dataframe\">\n",
       "  <thead>\n",
       "    <tr style=\"text-align: right;\">\n",
       "      <th></th>\n",
       "      <th>support</th>\n",
       "      <th>itemsets</th>\n",
       "      <th>length</th>\n",
       "    </tr>\n",
       "  </thead>\n",
       "  <tbody>\n",
       "    <tr>\n",
       "      <th>2</th>\n",
       "      <td>0.862069</td>\n",
       "      <td>(GRAVIDEZ_Única)</td>\n",
       "      <td>1</td>\n",
       "    </tr>\n",
       "    <tr>\n",
       "      <th>3</th>\n",
       "      <td>0.816092</td>\n",
       "      <td>(IDANOMAL_Não)</td>\n",
       "      <td>1</td>\n",
       "    </tr>\n",
       "    <tr>\n",
       "      <th>8</th>\n",
       "      <td>0.689655</td>\n",
       "      <td>(GRAVIDEZ_Única, IDANOMAL_Não)</td>\n",
       "      <td>2</td>\n",
       "    </tr>\n",
       "    <tr>\n",
       "      <th>0</th>\n",
       "      <td>0.678161</td>\n",
       "      <td>(SEXO_Masculino)</td>\n",
       "      <td>1</td>\n",
       "    </tr>\n",
       "    <tr>\n",
       "      <th>1</th>\n",
       "      <td>0.678161</td>\n",
       "      <td>(PARTO_Vaginal)</td>\n",
       "      <td>1</td>\n",
       "    </tr>\n",
       "    <tr>\n",
       "      <th>7</th>\n",
       "      <td>0.586207</td>\n",
       "      <td>(PARTO_Vaginal, IDANOMAL_Não)</td>\n",
       "      <td>2</td>\n",
       "    </tr>\n",
       "    <tr>\n",
       "      <th>6</th>\n",
       "      <td>0.574713</td>\n",
       "      <td>(PARTO_Vaginal, GRAVIDEZ_Única)</td>\n",
       "      <td>2</td>\n",
       "    </tr>\n",
       "    <tr>\n",
       "      <th>4</th>\n",
       "      <td>0.563218</td>\n",
       "      <td>(SEXO_Masculino, GRAVIDEZ_Única)</td>\n",
       "      <td>2</td>\n",
       "    </tr>\n",
       "    <tr>\n",
       "      <th>5</th>\n",
       "      <td>0.540230</td>\n",
       "      <td>(SEXO_Masculino, IDANOMAL_Não)</td>\n",
       "      <td>2</td>\n",
       "    </tr>\n",
       "  </tbody>\n",
       "</table>\n",
       "</div>"
      ],
      "text/plain": [
       "    support                          itemsets  length\n",
       "2  0.862069  (GRAVIDEZ_Única)                  1     \n",
       "3  0.816092  (IDANOMAL_Não)                    1     \n",
       "8  0.689655  (GRAVIDEZ_Única, IDANOMAL_Não)    2     \n",
       "0  0.678161  (SEXO_Masculino)                  1     \n",
       "1  0.678161  (PARTO_Vaginal)                   1     \n",
       "7  0.586207  (PARTO_Vaginal, IDANOMAL_Não)     2     \n",
       "6  0.574713  (PARTO_Vaginal, GRAVIDEZ_Única)   2     \n",
       "4  0.563218  (SEXO_Masculino, GRAVIDEZ_Única)  2     \n",
       "5  0.540230  (SEXO_Masculino, IDANOMAL_Não)    2     "
      ]
     },
     "execution_count": 46,
     "metadata": {},
     "output_type": "execute_result"
    }
   ],
   "source": [
    "apriori_runner_bio_morto = Apriori(jequitinhonha_biologico_encod_morto, threshold=0.5, transform_bol=True)\n",
    "apriori_df_bio_morto = apriori_runner_bio_morto.run(use_colnames=True)\n",
    "apriori_df_bio_morto.sort_values(by=['support'], ascending=False)"
   ]
  },
  {
   "cell_type": "code",
   "execution_count": 47,
   "id": "21985f1e",
   "metadata": {},
   "outputs": [
    {
     "data": {
      "text/html": [
       "<div>\n",
       "<style scoped>\n",
       "    .dataframe tbody tr th:only-of-type {\n",
       "        vertical-align: middle;\n",
       "    }\n",
       "\n",
       "    .dataframe tbody tr th {\n",
       "        vertical-align: top;\n",
       "    }\n",
       "\n",
       "    .dataframe thead th {\n",
       "        text-align: right;\n",
       "    }\n",
       "</style>\n",
       "<table border=\"1\" class=\"dataframe\">\n",
       "  <thead>\n",
       "    <tr style=\"text-align: right;\">\n",
       "      <th></th>\n",
       "      <th>antecedents</th>\n",
       "      <th>consequents</th>\n",
       "      <th>antecedent support</th>\n",
       "      <th>consequent support</th>\n",
       "      <th>support</th>\n",
       "      <th>confidence</th>\n",
       "      <th>lift</th>\n",
       "      <th>leverage</th>\n",
       "      <th>conviction</th>\n",
       "    </tr>\n",
       "  </thead>\n",
       "  <tbody>\n",
       "    <tr>\n",
       "      <th>6</th>\n",
       "      <td>(PARTO_Vaginal)</td>\n",
       "      <td>(IDANOMAL_Não)</td>\n",
       "      <td>0.678161</td>\n",
       "      <td>0.816092</td>\n",
       "      <td>0.586207</td>\n",
       "      <td>0.864407</td>\n",
       "      <td>1.059203</td>\n",
       "      <td>0.032765</td>\n",
       "      <td>1.356322</td>\n",
       "    </tr>\n",
       "    <tr>\n",
       "      <th>7</th>\n",
       "      <td>(IDANOMAL_Não)</td>\n",
       "      <td>(PARTO_Vaginal)</td>\n",
       "      <td>0.816092</td>\n",
       "      <td>0.678161</td>\n",
       "      <td>0.586207</td>\n",
       "      <td>0.718310</td>\n",
       "      <td>1.059203</td>\n",
       "      <td>0.032765</td>\n",
       "      <td>1.142529</td>\n",
       "    </tr>\n",
       "    <tr>\n",
       "      <th>4</th>\n",
       "      <td>(PARTO_Vaginal)</td>\n",
       "      <td>(GRAVIDEZ_Única)</td>\n",
       "      <td>0.678161</td>\n",
       "      <td>0.862069</td>\n",
       "      <td>0.574713</td>\n",
       "      <td>0.847458</td>\n",
       "      <td>0.983051</td>\n",
       "      <td>-0.009909</td>\n",
       "      <td>0.904215</td>\n",
       "    </tr>\n",
       "    <tr>\n",
       "      <th>5</th>\n",
       "      <td>(GRAVIDEZ_Única)</td>\n",
       "      <td>(PARTO_Vaginal)</td>\n",
       "      <td>0.862069</td>\n",
       "      <td>0.678161</td>\n",
       "      <td>0.574713</td>\n",
       "      <td>0.666667</td>\n",
       "      <td>0.983051</td>\n",
       "      <td>-0.009909</td>\n",
       "      <td>0.965517</td>\n",
       "    </tr>\n",
       "    <tr>\n",
       "      <th>8</th>\n",
       "      <td>(GRAVIDEZ_Única)</td>\n",
       "      <td>(IDANOMAL_Não)</td>\n",
       "      <td>0.862069</td>\n",
       "      <td>0.816092</td>\n",
       "      <td>0.689655</td>\n",
       "      <td>0.800000</td>\n",
       "      <td>0.980282</td>\n",
       "      <td>-0.013872</td>\n",
       "      <td>0.919540</td>\n",
       "    </tr>\n",
       "    <tr>\n",
       "      <th>9</th>\n",
       "      <td>(IDANOMAL_Não)</td>\n",
       "      <td>(GRAVIDEZ_Única)</td>\n",
       "      <td>0.816092</td>\n",
       "      <td>0.862069</td>\n",
       "      <td>0.689655</td>\n",
       "      <td>0.845070</td>\n",
       "      <td>0.980282</td>\n",
       "      <td>-0.013872</td>\n",
       "      <td>0.890282</td>\n",
       "    </tr>\n",
       "    <tr>\n",
       "      <th>2</th>\n",
       "      <td>(SEXO_Masculino)</td>\n",
       "      <td>(IDANOMAL_Não)</td>\n",
       "      <td>0.678161</td>\n",
       "      <td>0.816092</td>\n",
       "      <td>0.540230</td>\n",
       "      <td>0.796610</td>\n",
       "      <td>0.976128</td>\n",
       "      <td>-0.013212</td>\n",
       "      <td>0.904215</td>\n",
       "    </tr>\n",
       "    <tr>\n",
       "      <th>3</th>\n",
       "      <td>(IDANOMAL_Não)</td>\n",
       "      <td>(SEXO_Masculino)</td>\n",
       "      <td>0.816092</td>\n",
       "      <td>0.678161</td>\n",
       "      <td>0.540230</td>\n",
       "      <td>0.661972</td>\n",
       "      <td>0.976128</td>\n",
       "      <td>-0.013212</td>\n",
       "      <td>0.952107</td>\n",
       "    </tr>\n",
       "    <tr>\n",
       "      <th>0</th>\n",
       "      <td>(SEXO_Masculino)</td>\n",
       "      <td>(GRAVIDEZ_Única)</td>\n",
       "      <td>0.678161</td>\n",
       "      <td>0.862069</td>\n",
       "      <td>0.563218</td>\n",
       "      <td>0.830508</td>\n",
       "      <td>0.963390</td>\n",
       "      <td>-0.021403</td>\n",
       "      <td>0.813793</td>\n",
       "    </tr>\n",
       "    <tr>\n",
       "      <th>1</th>\n",
       "      <td>(GRAVIDEZ_Única)</td>\n",
       "      <td>(SEXO_Masculino)</td>\n",
       "      <td>0.862069</td>\n",
       "      <td>0.678161</td>\n",
       "      <td>0.563218</td>\n",
       "      <td>0.653333</td>\n",
       "      <td>0.963390</td>\n",
       "      <td>-0.021403</td>\n",
       "      <td>0.928382</td>\n",
       "    </tr>\n",
       "  </tbody>\n",
       "</table>\n",
       "</div>"
      ],
      "text/plain": [
       "        antecedents       consequents  antecedent support  consequent support   support  confidence      lift  leverage  conviction\n",
       "6  (PARTO_Vaginal)   (IDANOMAL_Não)    0.678161            0.816092            0.586207  0.864407    1.059203  0.032765  1.356322  \n",
       "7  (IDANOMAL_Não)    (PARTO_Vaginal)   0.816092            0.678161            0.586207  0.718310    1.059203  0.032765  1.142529  \n",
       "4  (PARTO_Vaginal)   (GRAVIDEZ_Única)  0.678161            0.862069            0.574713  0.847458    0.983051 -0.009909  0.904215  \n",
       "5  (GRAVIDEZ_Única)  (PARTO_Vaginal)   0.862069            0.678161            0.574713  0.666667    0.983051 -0.009909  0.965517  \n",
       "8  (GRAVIDEZ_Única)  (IDANOMAL_Não)    0.862069            0.816092            0.689655  0.800000    0.980282 -0.013872  0.919540  \n",
       "9  (IDANOMAL_Não)    (GRAVIDEZ_Única)  0.816092            0.862069            0.689655  0.845070    0.980282 -0.013872  0.890282  \n",
       "2  (SEXO_Masculino)  (IDANOMAL_Não)    0.678161            0.816092            0.540230  0.796610    0.976128 -0.013212  0.904215  \n",
       "3  (IDANOMAL_Não)    (SEXO_Masculino)  0.816092            0.678161            0.540230  0.661972    0.976128 -0.013212  0.952107  \n",
       "0  (SEXO_Masculino)  (GRAVIDEZ_Única)  0.678161            0.862069            0.563218  0.830508    0.963390 -0.021403  0.813793  \n",
       "1  (GRAVIDEZ_Única)  (SEXO_Masculino)  0.862069            0.678161            0.563218  0.653333    0.963390 -0.021403  0.928382  "
      ]
     },
     "execution_count": 47,
     "metadata": {},
     "output_type": "execute_result"
    }
   ],
   "source": [
    "rules_bio_morto = association_rules(apriori_df_bio_morto, metric='confidence', min_threshold=0.5)\n",
    "rules_bio_morto.sort_values(by=['lift'], ascending=False)"
   ]
  },
  {
   "cell_type": "markdown",
   "id": "c7c241be",
   "metadata": {},
   "source": [
    "### Sociais"
   ]
  },
  {
   "cell_type": "code",
   "execution_count": 48,
   "id": "d818390d",
   "metadata": {},
   "outputs": [
    {
     "name": "stderr",
     "output_type": "stream",
     "text": [
      "/home/isaac/.local/lib/python3.8/site-packages/pandas/core/frame.py:4901: SettingWithCopyWarning: \n",
      "A value is trying to be set on a copy of a slice from a DataFrame\n",
      "\n",
      "See the caveats in the documentation: https://pandas.pydata.org/pandas-docs/stable/user_guide/indexing.html#returning-a-view-versus-a-copy\n",
      "  return super().drop(\n"
     ]
    }
   ],
   "source": [
    "jequitinhonha_sociais_morto = jequitinhonha_biologico_df[jequitinhonha_biologico_df['CLASS']=='Morto']\n",
    "jequitinhonha_sociais_morto.drop('CLASS', axis=True, inplace=True)\n",
    "\n",
    "jequitinhonha_sociais_vivo = jequitinhonha_biologico_df[jequitinhonha_biologico_df['CLASS']=='Vivo']\n",
    "jequitinhonha_sociais_vivo.drop('CLASS', axis=True, inplace=True)\n",
    "\n",
    "jequitinhonha_sociais_encod_vivo = pd.get_dummies(jequitinhonha_sociais_vivo.astype(str))\n",
    "jequitinhonha_sociais_encod_morto = pd.get_dummies(jequitinhonha_sociais_morto.astype(str))"
   ]
  },
  {
   "cell_type": "markdown",
   "id": "c6107d07",
   "metadata": {},
   "source": [
    "#### Vivo"
   ]
  },
  {
   "cell_type": "code",
   "execution_count": 49,
   "id": "304e721f",
   "metadata": {},
   "outputs": [
    {
     "data": {
      "text/html": [
       "<div>\n",
       "<style scoped>\n",
       "    .dataframe tbody tr th:only-of-type {\n",
       "        vertical-align: middle;\n",
       "    }\n",
       "\n",
       "    .dataframe tbody tr th {\n",
       "        vertical-align: top;\n",
       "    }\n",
       "\n",
       "    .dataframe thead th {\n",
       "        text-align: right;\n",
       "    }\n",
       "</style>\n",
       "<table border=\"1\" class=\"dataframe\">\n",
       "  <thead>\n",
       "    <tr style=\"text-align: right;\">\n",
       "      <th></th>\n",
       "      <th>support</th>\n",
       "      <th>itemsets</th>\n",
       "      <th>length</th>\n",
       "    </tr>\n",
       "  </thead>\n",
       "  <tbody>\n",
       "    <tr>\n",
       "      <th>7</th>\n",
       "      <td>0.988506</td>\n",
       "      <td>(IDANOMAL_Não)</td>\n",
       "      <td>1</td>\n",
       "    </tr>\n",
       "    <tr>\n",
       "      <th>6</th>\n",
       "      <td>0.965517</td>\n",
       "      <td>(GRAVIDEZ_Única)</td>\n",
       "      <td>1</td>\n",
       "    </tr>\n",
       "    <tr>\n",
       "      <th>24</th>\n",
       "      <td>0.954023</td>\n",
       "      <td>(GRAVIDEZ_Única, IDANOMAL_Não)</td>\n",
       "      <td>2</td>\n",
       "    </tr>\n",
       "    <tr>\n",
       "      <th>4</th>\n",
       "      <td>0.850575</td>\n",
       "      <td>(GESTACAO_37 a 41 semanas)</td>\n",
       "      <td>1</td>\n",
       "    </tr>\n",
       "    <tr>\n",
       "      <th>21</th>\n",
       "      <td>0.839080</td>\n",
       "      <td>(GESTACAO_37 a 41 semanas, IDANOMAL_Não)</td>\n",
       "      <td>2</td>\n",
       "    </tr>\n",
       "    <tr>\n",
       "      <th>20</th>\n",
       "      <td>0.827586</td>\n",
       "      <td>(GESTACAO_37 a 41 semanas, GRAVIDEZ_Única)</td>\n",
       "      <td>2</td>\n",
       "    </tr>\n",
       "    <tr>\n",
       "      <th>36</th>\n",
       "      <td>0.816092</td>\n",
       "      <td>(GESTACAO_37 a 41 semanas, GRAVIDEZ_Única, IDANOMAL_Não)</td>\n",
       "      <td>3</td>\n",
       "    </tr>\n",
       "    <tr>\n",
       "      <th>5</th>\n",
       "      <td>0.701149</td>\n",
       "      <td>(PARTO_Vaginal)</td>\n",
       "      <td>1</td>\n",
       "    </tr>\n",
       "    <tr>\n",
       "      <th>22</th>\n",
       "      <td>0.689655</td>\n",
       "      <td>(PARTO_Vaginal, GRAVIDEZ_Única)</td>\n",
       "      <td>2</td>\n",
       "    </tr>\n",
       "    <tr>\n",
       "      <th>23</th>\n",
       "      <td>0.689655</td>\n",
       "      <td>(PARTO_Vaginal, IDANOMAL_Não)</td>\n",
       "      <td>2</td>\n",
       "    </tr>\n",
       "    <tr>\n",
       "      <th>37</th>\n",
       "      <td>0.678161</td>\n",
       "      <td>(PARTO_Vaginal, GRAVIDEZ_Única, IDANOMAL_Não)</td>\n",
       "      <td>3</td>\n",
       "    </tr>\n",
       "    <tr>\n",
       "      <th>1</th>\n",
       "      <td>0.620690</td>\n",
       "      <td>(APGAR1_5 a 7)</td>\n",
       "      <td>1</td>\n",
       "    </tr>\n",
       "    <tr>\n",
       "      <th>12</th>\n",
       "      <td>0.609195</td>\n",
       "      <td>(APGAR1_5 a 7, GRAVIDEZ_Única)</td>\n",
       "      <td>2</td>\n",
       "    </tr>\n",
       "    <tr>\n",
       "      <th>13</th>\n",
       "      <td>0.609195</td>\n",
       "      <td>(APGAR1_5 a 7, IDANOMAL_Não)</td>\n",
       "      <td>2</td>\n",
       "    </tr>\n",
       "    <tr>\n",
       "      <th>19</th>\n",
       "      <td>0.609195</td>\n",
       "      <td>(PARTO_Vaginal, GESTACAO_37 a 41 semanas)</td>\n",
       "      <td>2</td>\n",
       "    </tr>\n",
       "    <tr>\n",
       "      <th>30</th>\n",
       "      <td>0.597701</td>\n",
       "      <td>(APGAR1_5 a 7, GRAVIDEZ_Única, IDANOMAL_Não)</td>\n",
       "      <td>3</td>\n",
       "    </tr>\n",
       "    <tr>\n",
       "      <th>35</th>\n",
       "      <td>0.597701</td>\n",
       "      <td>(PARTO_Vaginal, GESTACAO_37 a 41 semanas, IDANOMAL_Não)</td>\n",
       "      <td>3</td>\n",
       "    </tr>\n",
       "    <tr>\n",
       "      <th>34</th>\n",
       "      <td>0.597701</td>\n",
       "      <td>(PARTO_Vaginal, GESTACAO_37 a 41 semanas, GRAVIDEZ_Única)</td>\n",
       "      <td>3</td>\n",
       "    </tr>\n",
       "    <tr>\n",
       "      <th>40</th>\n",
       "      <td>0.586207</td>\n",
       "      <td>(PARTO_Vaginal, GESTACAO_37 a 41 semanas, GRAVIDEZ_Única, IDANOMAL_Não)</td>\n",
       "      <td>4</td>\n",
       "    </tr>\n",
       "    <tr>\n",
       "      <th>0</th>\n",
       "      <td>0.563218</td>\n",
       "      <td>(PESO_3000 a 3999)</td>\n",
       "      <td>1</td>\n",
       "    </tr>\n",
       "    <tr>\n",
       "      <th>16</th>\n",
       "      <td>0.563218</td>\n",
       "      <td>(APGAR5_0 a 2, IDANOMAL_Não)</td>\n",
       "      <td>2</td>\n",
       "    </tr>\n",
       "    <tr>\n",
       "      <th>2</th>\n",
       "      <td>0.563218</td>\n",
       "      <td>(APGAR5_0 a 2)</td>\n",
       "      <td>1</td>\n",
       "    </tr>\n",
       "    <tr>\n",
       "      <th>9</th>\n",
       "      <td>0.563218</td>\n",
       "      <td>(GRAVIDEZ_Única, PESO_3000 a 3999)</td>\n",
       "      <td>2</td>\n",
       "    </tr>\n",
       "    <tr>\n",
       "      <th>27</th>\n",
       "      <td>0.551724</td>\n",
       "      <td>(GRAVIDEZ_Única, IDANOMAL_Não, PESO_3000 a 3999)</td>\n",
       "      <td>3</td>\n",
       "    </tr>\n",
       "    <tr>\n",
       "      <th>10</th>\n",
       "      <td>0.551724</td>\n",
       "      <td>(IDANOMAL_Não, PESO_3000 a 3999)</td>\n",
       "      <td>2</td>\n",
       "    </tr>\n",
       "    <tr>\n",
       "      <th>11</th>\n",
       "      <td>0.540230</td>\n",
       "      <td>(APGAR1_5 a 7, GESTACAO_37 a 41 semanas)</td>\n",
       "      <td>2</td>\n",
       "    </tr>\n",
       "    <tr>\n",
       "      <th>32</th>\n",
       "      <td>0.540230</td>\n",
       "      <td>(GRAVIDEZ_Única, APGAR5_0 a 2, IDANOMAL_Não)</td>\n",
       "      <td>3</td>\n",
       "    </tr>\n",
       "    <tr>\n",
       "      <th>15</th>\n",
       "      <td>0.540230</td>\n",
       "      <td>(GRAVIDEZ_Única, APGAR5_0 a 2)</td>\n",
       "      <td>2</td>\n",
       "    </tr>\n",
       "    <tr>\n",
       "      <th>28</th>\n",
       "      <td>0.528736</td>\n",
       "      <td>(APGAR1_5 a 7, GESTACAO_37 a 41 semanas, GRAVIDEZ_Única)</td>\n",
       "      <td>3</td>\n",
       "    </tr>\n",
       "    <tr>\n",
       "      <th>29</th>\n",
       "      <td>0.528736</td>\n",
       "      <td>(APGAR1_5 a 7, GESTACAO_37 a 41 semanas, IDANOMAL_Não)</td>\n",
       "      <td>3</td>\n",
       "    </tr>\n",
       "    <tr>\n",
       "      <th>25</th>\n",
       "      <td>0.517241</td>\n",
       "      <td>(GESTACAO_37 a 41 semanas, GRAVIDEZ_Única, PESO_3000 a 3999)</td>\n",
       "      <td>3</td>\n",
       "    </tr>\n",
       "    <tr>\n",
       "      <th>8</th>\n",
       "      <td>0.517241</td>\n",
       "      <td>(GESTACAO_37 a 41 semanas, PESO_3000 a 3999)</td>\n",
       "      <td>2</td>\n",
       "    </tr>\n",
       "    <tr>\n",
       "      <th>3</th>\n",
       "      <td>0.517241</td>\n",
       "      <td>(SEXO_Feminino)</td>\n",
       "      <td>1</td>\n",
       "    </tr>\n",
       "    <tr>\n",
       "      <th>39</th>\n",
       "      <td>0.517241</td>\n",
       "      <td>(APGAR1_5 a 7, GESTACAO_37 a 41 semanas, GRAVIDEZ_Única, IDANOMAL_Não)</td>\n",
       "      <td>4</td>\n",
       "    </tr>\n",
       "    <tr>\n",
       "      <th>18</th>\n",
       "      <td>0.517241</td>\n",
       "      <td>(SEXO_Feminino, IDANOMAL_Não)</td>\n",
       "      <td>2</td>\n",
       "    </tr>\n",
       "    <tr>\n",
       "      <th>26</th>\n",
       "      <td>0.505747</td>\n",
       "      <td>(GESTACAO_37 a 41 semanas, IDANOMAL_Não, PESO_3000 a 3999)</td>\n",
       "      <td>3</td>\n",
       "    </tr>\n",
       "    <tr>\n",
       "      <th>17</th>\n",
       "      <td>0.505747</td>\n",
       "      <td>(SEXO_Feminino, GRAVIDEZ_Única)</td>\n",
       "      <td>2</td>\n",
       "    </tr>\n",
       "    <tr>\n",
       "      <th>31</th>\n",
       "      <td>0.505747</td>\n",
       "      <td>(GESTACAO_37 a 41 semanas, APGAR5_0 a 2, IDANOMAL_Não)</td>\n",
       "      <td>3</td>\n",
       "    </tr>\n",
       "    <tr>\n",
       "      <th>33</th>\n",
       "      <td>0.505747</td>\n",
       "      <td>(SEXO_Feminino, GRAVIDEZ_Única, IDANOMAL_Não)</td>\n",
       "      <td>3</td>\n",
       "    </tr>\n",
       "    <tr>\n",
       "      <th>14</th>\n",
       "      <td>0.505747</td>\n",
       "      <td>(GESTACAO_37 a 41 semanas, APGAR5_0 a 2)</td>\n",
       "      <td>2</td>\n",
       "    </tr>\n",
       "    <tr>\n",
       "      <th>38</th>\n",
       "      <td>0.505747</td>\n",
       "      <td>(GESTACAO_37 a 41 semanas, GRAVIDEZ_Única, IDANOMAL_Não, PESO_3000 a 3999)</td>\n",
       "      <td>4</td>\n",
       "    </tr>\n",
       "  </tbody>\n",
       "</table>\n",
       "</div>"
      ],
      "text/plain": [
       "     support                                                                    itemsets  length\n",
       "7   0.988506  (IDANOMAL_Não)                                                              1     \n",
       "6   0.965517  (GRAVIDEZ_Única)                                                            1     \n",
       "24  0.954023  (GRAVIDEZ_Única, IDANOMAL_Não)                                              2     \n",
       "4   0.850575  (GESTACAO_37 a 41 semanas)                                                  1     \n",
       "21  0.839080  (GESTACAO_37 a 41 semanas, IDANOMAL_Não)                                    2     \n",
       "20  0.827586  (GESTACAO_37 a 41 semanas, GRAVIDEZ_Única)                                  2     \n",
       "36  0.816092  (GESTACAO_37 a 41 semanas, GRAVIDEZ_Única, IDANOMAL_Não)                    3     \n",
       "5   0.701149  (PARTO_Vaginal)                                                             1     \n",
       "22  0.689655  (PARTO_Vaginal, GRAVIDEZ_Única)                                             2     \n",
       "23  0.689655  (PARTO_Vaginal, IDANOMAL_Não)                                               2     \n",
       "37  0.678161  (PARTO_Vaginal, GRAVIDEZ_Única, IDANOMAL_Não)                               3     \n",
       "1   0.620690  (APGAR1_5 a 7)                                                              1     \n",
       "12  0.609195  (APGAR1_5 a 7, GRAVIDEZ_Única)                                              2     \n",
       "13  0.609195  (APGAR1_5 a 7, IDANOMAL_Não)                                                2     \n",
       "19  0.609195  (PARTO_Vaginal, GESTACAO_37 a 41 semanas)                                   2     \n",
       "30  0.597701  (APGAR1_5 a 7, GRAVIDEZ_Única, IDANOMAL_Não)                                3     \n",
       "35  0.597701  (PARTO_Vaginal, GESTACAO_37 a 41 semanas, IDANOMAL_Não)                     3     \n",
       "34  0.597701  (PARTO_Vaginal, GESTACAO_37 a 41 semanas, GRAVIDEZ_Única)                   3     \n",
       "40  0.586207  (PARTO_Vaginal, GESTACAO_37 a 41 semanas, GRAVIDEZ_Única, IDANOMAL_Não)     4     \n",
       "0   0.563218  (PESO_3000 a 3999)                                                          1     \n",
       "16  0.563218  (APGAR5_0 a 2, IDANOMAL_Não)                                                2     \n",
       "2   0.563218  (APGAR5_0 a 2)                                                              1     \n",
       "9   0.563218  (GRAVIDEZ_Única, PESO_3000 a 3999)                                          2     \n",
       "27  0.551724  (GRAVIDEZ_Única, IDANOMAL_Não, PESO_3000 a 3999)                            3     \n",
       "10  0.551724  (IDANOMAL_Não, PESO_3000 a 3999)                                            2     \n",
       "11  0.540230  (APGAR1_5 a 7, GESTACAO_37 a 41 semanas)                                    2     \n",
       "32  0.540230  (GRAVIDEZ_Única, APGAR5_0 a 2, IDANOMAL_Não)                                3     \n",
       "15  0.540230  (GRAVIDEZ_Única, APGAR5_0 a 2)                                              2     \n",
       "28  0.528736  (APGAR1_5 a 7, GESTACAO_37 a 41 semanas, GRAVIDEZ_Única)                    3     \n",
       "29  0.528736  (APGAR1_5 a 7, GESTACAO_37 a 41 semanas, IDANOMAL_Não)                      3     \n",
       "25  0.517241  (GESTACAO_37 a 41 semanas, GRAVIDEZ_Única, PESO_3000 a 3999)                3     \n",
       "8   0.517241  (GESTACAO_37 a 41 semanas, PESO_3000 a 3999)                                2     \n",
       "3   0.517241  (SEXO_Feminino)                                                             1     \n",
       "39  0.517241  (APGAR1_5 a 7, GESTACAO_37 a 41 semanas, GRAVIDEZ_Única, IDANOMAL_Não)      4     \n",
       "18  0.517241  (SEXO_Feminino, IDANOMAL_Não)                                               2     \n",
       "26  0.505747  (GESTACAO_37 a 41 semanas, IDANOMAL_Não, PESO_3000 a 3999)                  3     \n",
       "17  0.505747  (SEXO_Feminino, GRAVIDEZ_Única)                                             2     \n",
       "31  0.505747  (GESTACAO_37 a 41 semanas, APGAR5_0 a 2, IDANOMAL_Não)                      3     \n",
       "33  0.505747  (SEXO_Feminino, GRAVIDEZ_Única, IDANOMAL_Não)                               3     \n",
       "14  0.505747  (GESTACAO_37 a 41 semanas, APGAR5_0 a 2)                                    2     \n",
       "38  0.505747  (GESTACAO_37 a 41 semanas, GRAVIDEZ_Única, IDANOMAL_Não, PESO_3000 a 3999)  4     "
      ]
     },
     "execution_count": 49,
     "metadata": {},
     "output_type": "execute_result"
    }
   ],
   "source": [
    "apriori_runner_vivo = Apriori(jequitinhonha_sociais_encod_vivo, threshold=0.5, transform_bol=True)\n",
    "apriori_df_vivo = apriori_runner_vivo.run(use_colnames=True)\n",
    "apriori_df_vivo.sort_values(by=['support'], ascending=False)"
   ]
  },
  {
   "cell_type": "code",
   "execution_count": 50,
   "id": "0a4cd474",
   "metadata": {},
   "outputs": [
    {
     "data": {
      "text/html": [
       "<div>\n",
       "<style scoped>\n",
       "    .dataframe tbody tr th:only-of-type {\n",
       "        vertical-align: middle;\n",
       "    }\n",
       "\n",
       "    .dataframe tbody tr th {\n",
       "        vertical-align: top;\n",
       "    }\n",
       "\n",
       "    .dataframe thead th {\n",
       "        text-align: right;\n",
       "    }\n",
       "</style>\n",
       "<table border=\"1\" class=\"dataframe\">\n",
       "  <thead>\n",
       "    <tr style=\"text-align: right;\">\n",
       "      <th></th>\n",
       "      <th>antecedents</th>\n",
       "      <th>consequents</th>\n",
       "      <th>antecedent support</th>\n",
       "      <th>consequent support</th>\n",
       "      <th>support</th>\n",
       "      <th>confidence</th>\n",
       "      <th>lift</th>\n",
       "      <th>leverage</th>\n",
       "      <th>conviction</th>\n",
       "    </tr>\n",
       "  </thead>\n",
       "  <tbody>\n",
       "    <tr>\n",
       "      <th>34</th>\n",
       "      <td>(GESTACAO_37 a 41 semanas, GRAVIDEZ_Única)</td>\n",
       "      <td>(PESO_3000 a 3999)</td>\n",
       "      <td>0.827586</td>\n",
       "      <td>0.563218</td>\n",
       "      <td>0.517241</td>\n",
       "      <td>0.625000</td>\n",
       "      <td>1.109694</td>\n",
       "      <td>0.051130</td>\n",
       "      <td>1.164751</td>\n",
       "    </tr>\n",
       "    <tr>\n",
       "      <th>39</th>\n",
       "      <td>(PESO_3000 a 3999)</td>\n",
       "      <td>(GESTACAO_37 a 41 semanas, GRAVIDEZ_Única)</td>\n",
       "      <td>0.563218</td>\n",
       "      <td>0.827586</td>\n",
       "      <td>0.517241</td>\n",
       "      <td>0.918367</td>\n",
       "      <td>1.109694</td>\n",
       "      <td>0.051130</td>\n",
       "      <td>2.112069</td>\n",
       "    </tr>\n",
       "    <tr>\n",
       "      <th>121</th>\n",
       "      <td>(IDANOMAL_Não, PESO_3000 a 3999)</td>\n",
       "      <td>(GESTACAO_37 a 41 semanas, GRAVIDEZ_Única)</td>\n",
       "      <td>0.551724</td>\n",
       "      <td>0.827586</td>\n",
       "      <td>0.505747</td>\n",
       "      <td>0.916667</td>\n",
       "      <td>1.107639</td>\n",
       "      <td>0.049148</td>\n",
       "      <td>2.068966</td>\n",
       "    </tr>\n",
       "    <tr>\n",
       "      <th>116</th>\n",
       "      <td>(GESTACAO_37 a 41 semanas, GRAVIDEZ_Única)</td>\n",
       "      <td>(IDANOMAL_Não, PESO_3000 a 3999)</td>\n",
       "      <td>0.827586</td>\n",
       "      <td>0.551724</td>\n",
       "      <td>0.505747</td>\n",
       "      <td>0.611111</td>\n",
       "      <td>1.107639</td>\n",
       "      <td>0.049148</td>\n",
       "      <td>1.152709</td>\n",
       "    </tr>\n",
       "    <tr>\n",
       "      <th>112</th>\n",
       "      <td>(GESTACAO_37 a 41 semanas, GRAVIDEZ_Única, IDANOMAL_Não)</td>\n",
       "      <td>(PESO_3000 a 3999)</td>\n",
       "      <td>0.816092</td>\n",
       "      <td>0.563218</td>\n",
       "      <td>0.505747</td>\n",
       "      <td>0.619718</td>\n",
       "      <td>1.100316</td>\n",
       "      <td>0.046109</td>\n",
       "      <td>1.148574</td>\n",
       "    </tr>\n",
       "    <tr>\n",
       "      <th>...</th>\n",
       "      <td>...</td>\n",
       "      <td>...</td>\n",
       "      <td>...</td>\n",
       "      <td>...</td>\n",
       "      <td>...</td>\n",
       "      <td>...</td>\n",
       "      <td>...</td>\n",
       "      <td>...</td>\n",
       "      <td>...</td>\n",
       "    </tr>\n",
       "    <tr>\n",
       "      <th>126</th>\n",
       "      <td>(APGAR1_5 a 7, GESTACAO_37 a 41 semanas, GRAVIDEZ_Única)</td>\n",
       "      <td>(IDANOMAL_Não)</td>\n",
       "      <td>0.528736</td>\n",
       "      <td>0.988506</td>\n",
       "      <td>0.517241</td>\n",
       "      <td>0.978261</td>\n",
       "      <td>0.989636</td>\n",
       "      <td>-0.005417</td>\n",
       "      <td>0.528736</td>\n",
       "    </tr>\n",
       "    <tr>\n",
       "      <th>41</th>\n",
       "      <td>(GESTACAO_37 a 41 semanas, PESO_3000 a 3999)</td>\n",
       "      <td>(IDANOMAL_Não)</td>\n",
       "      <td>0.517241</td>\n",
       "      <td>0.988506</td>\n",
       "      <td>0.505747</td>\n",
       "      <td>0.977778</td>\n",
       "      <td>0.989147</td>\n",
       "      <td>-0.005549</td>\n",
       "      <td>0.517241</td>\n",
       "    </tr>\n",
       "    <tr>\n",
       "      <th>113</th>\n",
       "      <td>(GESTACAO_37 a 41 semanas, GRAVIDEZ_Única, PESO_3000 a 3999)</td>\n",
       "      <td>(IDANOMAL_Não)</td>\n",
       "      <td>0.517241</td>\n",
       "      <td>0.988506</td>\n",
       "      <td>0.505747</td>\n",
       "      <td>0.977778</td>\n",
       "      <td>0.989147</td>\n",
       "      <td>-0.005549</td>\n",
       "      <td>0.517241</td>\n",
       "    </tr>\n",
       "    <tr>\n",
       "      <th>44</th>\n",
       "      <td>(IDANOMAL_Não)</td>\n",
       "      <td>(GESTACAO_37 a 41 semanas, PESO_3000 a 3999)</td>\n",
       "      <td>0.988506</td>\n",
       "      <td>0.517241</td>\n",
       "      <td>0.505747</td>\n",
       "      <td>0.511628</td>\n",
       "      <td>0.989147</td>\n",
       "      <td>-0.005549</td>\n",
       "      <td>0.988506</td>\n",
       "    </tr>\n",
       "    <tr>\n",
       "      <th>124</th>\n",
       "      <td>(IDANOMAL_Não)</td>\n",
       "      <td>(GESTACAO_37 a 41 semanas, GRAVIDEZ_Única, PESO_3000 a 3999)</td>\n",
       "      <td>0.988506</td>\n",
       "      <td>0.517241</td>\n",
       "      <td>0.505747</td>\n",
       "      <td>0.511628</td>\n",
       "      <td>0.989147</td>\n",
       "      <td>-0.005549</td>\n",
       "      <td>0.988506</td>\n",
       "    </tr>\n",
       "  </tbody>\n",
       "</table>\n",
       "<p>154 rows × 9 columns</p>\n",
       "</div>"
      ],
      "text/plain": [
       "                                                      antecedents                                                   consequents  antecedent support  consequent support   support  confidence      lift  leverage  conviction\n",
       "34   (GESTACAO_37 a 41 semanas, GRAVIDEZ_Única)                    (PESO_3000 a 3999)                                            0.827586            0.563218            0.517241  0.625000    1.109694  0.051130  1.164751  \n",
       "39   (PESO_3000 a 3999)                                            (GESTACAO_37 a 41 semanas, GRAVIDEZ_Única)                    0.563218            0.827586            0.517241  0.918367    1.109694  0.051130  2.112069  \n",
       "121  (IDANOMAL_Não, PESO_3000 a 3999)                              (GESTACAO_37 a 41 semanas, GRAVIDEZ_Única)                    0.551724            0.827586            0.505747  0.916667    1.107639  0.049148  2.068966  \n",
       "116  (GESTACAO_37 a 41 semanas, GRAVIDEZ_Única)                    (IDANOMAL_Não, PESO_3000 a 3999)                              0.827586            0.551724            0.505747  0.611111    1.107639  0.049148  1.152709  \n",
       "112  (GESTACAO_37 a 41 semanas, GRAVIDEZ_Única, IDANOMAL_Não)      (PESO_3000 a 3999)                                            0.816092            0.563218            0.505747  0.619718    1.100316  0.046109  1.148574  \n",
       "..                                                        ...                     ...                                                 ...                 ...                 ...       ...         ...       ...       ...  \n",
       "126  (APGAR1_5 a 7, GESTACAO_37 a 41 semanas, GRAVIDEZ_Única)      (IDANOMAL_Não)                                                0.528736            0.988506            0.517241  0.978261    0.989636 -0.005417  0.528736  \n",
       "41   (GESTACAO_37 a 41 semanas, PESO_3000 a 3999)                  (IDANOMAL_Não)                                                0.517241            0.988506            0.505747  0.977778    0.989147 -0.005549  0.517241  \n",
       "113  (GESTACAO_37 a 41 semanas, GRAVIDEZ_Única, PESO_3000 a 3999)  (IDANOMAL_Não)                                                0.517241            0.988506            0.505747  0.977778    0.989147 -0.005549  0.517241  \n",
       "44   (IDANOMAL_Não)                                                (GESTACAO_37 a 41 semanas, PESO_3000 a 3999)                  0.988506            0.517241            0.505747  0.511628    0.989147 -0.005549  0.988506  \n",
       "124  (IDANOMAL_Não)                                                (GESTACAO_37 a 41 semanas, GRAVIDEZ_Única, PESO_3000 a 3999)  0.988506            0.517241            0.505747  0.511628    0.989147 -0.005549  0.988506  \n",
       "\n",
       "[154 rows x 9 columns]"
      ]
     },
     "execution_count": 50,
     "metadata": {},
     "output_type": "execute_result"
    }
   ],
   "source": [
    "rules_vivo = association_rules(apriori_df_vivo, metric='confidence', min_threshold=0.5)\n",
    "rules_vivo.sort_values(by=['lift'], ascending=False)"
   ]
  },
  {
   "cell_type": "markdown",
   "id": "2e7ff86e",
   "metadata": {},
   "source": [
    "#### Morto"
   ]
  },
  {
   "cell_type": "code",
   "execution_count": 51,
   "id": "89101c3a",
   "metadata": {},
   "outputs": [
    {
     "data": {
      "text/html": [
       "<div>\n",
       "<style scoped>\n",
       "    .dataframe tbody tr th:only-of-type {\n",
       "        vertical-align: middle;\n",
       "    }\n",
       "\n",
       "    .dataframe tbody tr th {\n",
       "        vertical-align: top;\n",
       "    }\n",
       "\n",
       "    .dataframe thead th {\n",
       "        text-align: right;\n",
       "    }\n",
       "</style>\n",
       "<table border=\"1\" class=\"dataframe\">\n",
       "  <thead>\n",
       "    <tr style=\"text-align: right;\">\n",
       "      <th></th>\n",
       "      <th>support</th>\n",
       "      <th>itemsets</th>\n",
       "      <th>length</th>\n",
       "    </tr>\n",
       "  </thead>\n",
       "  <tbody>\n",
       "    <tr>\n",
       "      <th>2</th>\n",
       "      <td>0.862069</td>\n",
       "      <td>(GRAVIDEZ_Única)</td>\n",
       "      <td>1</td>\n",
       "    </tr>\n",
       "    <tr>\n",
       "      <th>3</th>\n",
       "      <td>0.816092</td>\n",
       "      <td>(IDANOMAL_Não)</td>\n",
       "      <td>1</td>\n",
       "    </tr>\n",
       "    <tr>\n",
       "      <th>8</th>\n",
       "      <td>0.689655</td>\n",
       "      <td>(GRAVIDEZ_Única, IDANOMAL_Não)</td>\n",
       "      <td>2</td>\n",
       "    </tr>\n",
       "    <tr>\n",
       "      <th>0</th>\n",
       "      <td>0.678161</td>\n",
       "      <td>(SEXO_Masculino)</td>\n",
       "      <td>1</td>\n",
       "    </tr>\n",
       "    <tr>\n",
       "      <th>1</th>\n",
       "      <td>0.678161</td>\n",
       "      <td>(PARTO_Vaginal)</td>\n",
       "      <td>1</td>\n",
       "    </tr>\n",
       "    <tr>\n",
       "      <th>7</th>\n",
       "      <td>0.586207</td>\n",
       "      <td>(PARTO_Vaginal, IDANOMAL_Não)</td>\n",
       "      <td>2</td>\n",
       "    </tr>\n",
       "    <tr>\n",
       "      <th>6</th>\n",
       "      <td>0.574713</td>\n",
       "      <td>(PARTO_Vaginal, GRAVIDEZ_Única)</td>\n",
       "      <td>2</td>\n",
       "    </tr>\n",
       "    <tr>\n",
       "      <th>4</th>\n",
       "      <td>0.563218</td>\n",
       "      <td>(SEXO_Masculino, GRAVIDEZ_Única)</td>\n",
       "      <td>2</td>\n",
       "    </tr>\n",
       "    <tr>\n",
       "      <th>5</th>\n",
       "      <td>0.540230</td>\n",
       "      <td>(SEXO_Masculino, IDANOMAL_Não)</td>\n",
       "      <td>2</td>\n",
       "    </tr>\n",
       "  </tbody>\n",
       "</table>\n",
       "</div>"
      ],
      "text/plain": [
       "    support                          itemsets  length\n",
       "2  0.862069  (GRAVIDEZ_Única)                  1     \n",
       "3  0.816092  (IDANOMAL_Não)                    1     \n",
       "8  0.689655  (GRAVIDEZ_Única, IDANOMAL_Não)    2     \n",
       "0  0.678161  (SEXO_Masculino)                  1     \n",
       "1  0.678161  (PARTO_Vaginal)                   1     \n",
       "7  0.586207  (PARTO_Vaginal, IDANOMAL_Não)     2     \n",
       "6  0.574713  (PARTO_Vaginal, GRAVIDEZ_Única)   2     \n",
       "4  0.563218  (SEXO_Masculino, GRAVIDEZ_Única)  2     \n",
       "5  0.540230  (SEXO_Masculino, IDANOMAL_Não)    2     "
      ]
     },
     "execution_count": 51,
     "metadata": {},
     "output_type": "execute_result"
    }
   ],
   "source": [
    "apriori_runner_morto = Apriori(jequitinhonha_sociais_encod_morto, threshold=0.5, transform_bol=True)\n",
    "apriori_df_morto = apriori_runner_morto.run(use_colnames=True)\n",
    "apriori_df_morto.sort_values(by=['support'], ascending=False)"
   ]
  },
  {
   "cell_type": "code",
   "execution_count": 52,
   "id": "6a2a8c85",
   "metadata": {},
   "outputs": [
    {
     "data": {
      "text/html": [
       "<div>\n",
       "<style scoped>\n",
       "    .dataframe tbody tr th:only-of-type {\n",
       "        vertical-align: middle;\n",
       "    }\n",
       "\n",
       "    .dataframe tbody tr th {\n",
       "        vertical-align: top;\n",
       "    }\n",
       "\n",
       "    .dataframe thead th {\n",
       "        text-align: right;\n",
       "    }\n",
       "</style>\n",
       "<table border=\"1\" class=\"dataframe\">\n",
       "  <thead>\n",
       "    <tr style=\"text-align: right;\">\n",
       "      <th></th>\n",
       "      <th>antecedents</th>\n",
       "      <th>consequents</th>\n",
       "      <th>antecedent support</th>\n",
       "      <th>consequent support</th>\n",
       "      <th>support</th>\n",
       "      <th>confidence</th>\n",
       "      <th>lift</th>\n",
       "      <th>leverage</th>\n",
       "      <th>conviction</th>\n",
       "    </tr>\n",
       "  </thead>\n",
       "  <tbody>\n",
       "    <tr>\n",
       "      <th>6</th>\n",
       "      <td>(PARTO_Vaginal)</td>\n",
       "      <td>(IDANOMAL_Não)</td>\n",
       "      <td>0.678161</td>\n",
       "      <td>0.816092</td>\n",
       "      <td>0.586207</td>\n",
       "      <td>0.864407</td>\n",
       "      <td>1.059203</td>\n",
       "      <td>0.032765</td>\n",
       "      <td>1.356322</td>\n",
       "    </tr>\n",
       "    <tr>\n",
       "      <th>7</th>\n",
       "      <td>(IDANOMAL_Não)</td>\n",
       "      <td>(PARTO_Vaginal)</td>\n",
       "      <td>0.816092</td>\n",
       "      <td>0.678161</td>\n",
       "      <td>0.586207</td>\n",
       "      <td>0.718310</td>\n",
       "      <td>1.059203</td>\n",
       "      <td>0.032765</td>\n",
       "      <td>1.142529</td>\n",
       "    </tr>\n",
       "    <tr>\n",
       "      <th>4</th>\n",
       "      <td>(PARTO_Vaginal)</td>\n",
       "      <td>(GRAVIDEZ_Única)</td>\n",
       "      <td>0.678161</td>\n",
       "      <td>0.862069</td>\n",
       "      <td>0.574713</td>\n",
       "      <td>0.847458</td>\n",
       "      <td>0.983051</td>\n",
       "      <td>-0.009909</td>\n",
       "      <td>0.904215</td>\n",
       "    </tr>\n",
       "    <tr>\n",
       "      <th>5</th>\n",
       "      <td>(GRAVIDEZ_Única)</td>\n",
       "      <td>(PARTO_Vaginal)</td>\n",
       "      <td>0.862069</td>\n",
       "      <td>0.678161</td>\n",
       "      <td>0.574713</td>\n",
       "      <td>0.666667</td>\n",
       "      <td>0.983051</td>\n",
       "      <td>-0.009909</td>\n",
       "      <td>0.965517</td>\n",
       "    </tr>\n",
       "    <tr>\n",
       "      <th>8</th>\n",
       "      <td>(GRAVIDEZ_Única)</td>\n",
       "      <td>(IDANOMAL_Não)</td>\n",
       "      <td>0.862069</td>\n",
       "      <td>0.816092</td>\n",
       "      <td>0.689655</td>\n",
       "      <td>0.800000</td>\n",
       "      <td>0.980282</td>\n",
       "      <td>-0.013872</td>\n",
       "      <td>0.919540</td>\n",
       "    </tr>\n",
       "    <tr>\n",
       "      <th>9</th>\n",
       "      <td>(IDANOMAL_Não)</td>\n",
       "      <td>(GRAVIDEZ_Única)</td>\n",
       "      <td>0.816092</td>\n",
       "      <td>0.862069</td>\n",
       "      <td>0.689655</td>\n",
       "      <td>0.845070</td>\n",
       "      <td>0.980282</td>\n",
       "      <td>-0.013872</td>\n",
       "      <td>0.890282</td>\n",
       "    </tr>\n",
       "    <tr>\n",
       "      <th>2</th>\n",
       "      <td>(SEXO_Masculino)</td>\n",
       "      <td>(IDANOMAL_Não)</td>\n",
       "      <td>0.678161</td>\n",
       "      <td>0.816092</td>\n",
       "      <td>0.540230</td>\n",
       "      <td>0.796610</td>\n",
       "      <td>0.976128</td>\n",
       "      <td>-0.013212</td>\n",
       "      <td>0.904215</td>\n",
       "    </tr>\n",
       "    <tr>\n",
       "      <th>3</th>\n",
       "      <td>(IDANOMAL_Não)</td>\n",
       "      <td>(SEXO_Masculino)</td>\n",
       "      <td>0.816092</td>\n",
       "      <td>0.678161</td>\n",
       "      <td>0.540230</td>\n",
       "      <td>0.661972</td>\n",
       "      <td>0.976128</td>\n",
       "      <td>-0.013212</td>\n",
       "      <td>0.952107</td>\n",
       "    </tr>\n",
       "    <tr>\n",
       "      <th>0</th>\n",
       "      <td>(SEXO_Masculino)</td>\n",
       "      <td>(GRAVIDEZ_Única)</td>\n",
       "      <td>0.678161</td>\n",
       "      <td>0.862069</td>\n",
       "      <td>0.563218</td>\n",
       "      <td>0.830508</td>\n",
       "      <td>0.963390</td>\n",
       "      <td>-0.021403</td>\n",
       "      <td>0.813793</td>\n",
       "    </tr>\n",
       "    <tr>\n",
       "      <th>1</th>\n",
       "      <td>(GRAVIDEZ_Única)</td>\n",
       "      <td>(SEXO_Masculino)</td>\n",
       "      <td>0.862069</td>\n",
       "      <td>0.678161</td>\n",
       "      <td>0.563218</td>\n",
       "      <td>0.653333</td>\n",
       "      <td>0.963390</td>\n",
       "      <td>-0.021403</td>\n",
       "      <td>0.928382</td>\n",
       "    </tr>\n",
       "  </tbody>\n",
       "</table>\n",
       "</div>"
      ],
      "text/plain": [
       "        antecedents       consequents  antecedent support  consequent support   support  confidence      lift  leverage  conviction\n",
       "6  (PARTO_Vaginal)   (IDANOMAL_Não)    0.678161            0.816092            0.586207  0.864407    1.059203  0.032765  1.356322  \n",
       "7  (IDANOMAL_Não)    (PARTO_Vaginal)   0.816092            0.678161            0.586207  0.718310    1.059203  0.032765  1.142529  \n",
       "4  (PARTO_Vaginal)   (GRAVIDEZ_Única)  0.678161            0.862069            0.574713  0.847458    0.983051 -0.009909  0.904215  \n",
       "5  (GRAVIDEZ_Única)  (PARTO_Vaginal)   0.862069            0.678161            0.574713  0.666667    0.983051 -0.009909  0.965517  \n",
       "8  (GRAVIDEZ_Única)  (IDANOMAL_Não)    0.862069            0.816092            0.689655  0.800000    0.980282 -0.013872  0.919540  \n",
       "9  (IDANOMAL_Não)    (GRAVIDEZ_Única)  0.816092            0.862069            0.689655  0.845070    0.980282 -0.013872  0.890282  \n",
       "2  (SEXO_Masculino)  (IDANOMAL_Não)    0.678161            0.816092            0.540230  0.796610    0.976128 -0.013212  0.904215  \n",
       "3  (IDANOMAL_Não)    (SEXO_Masculino)  0.816092            0.678161            0.540230  0.661972    0.976128 -0.013212  0.952107  \n",
       "0  (SEXO_Masculino)  (GRAVIDEZ_Única)  0.678161            0.862069            0.563218  0.830508    0.963390 -0.021403  0.813793  \n",
       "1  (GRAVIDEZ_Única)  (SEXO_Masculino)  0.862069            0.678161            0.563218  0.653333    0.963390 -0.021403  0.928382  "
      ]
     },
     "execution_count": 52,
     "metadata": {},
     "output_type": "execute_result"
    }
   ],
   "source": [
    "rules_morto = association_rules(apriori_df_morto, metric='confidence', min_threshold=0.5)\n",
    "rules_morto.sort_values(by=['lift'], ascending=False)"
   ]
  },
  {
   "cell_type": "code",
   "execution_count": null,
   "id": "4df1c080",
   "metadata": {},
   "outputs": [],
   "source": []
  },
  {
   "cell_type": "code",
   "execution_count": null,
   "id": "a4e66496",
   "metadata": {},
   "outputs": [],
   "source": []
  },
  {
   "cell_type": "code",
   "execution_count": null,
   "id": "d24246a1",
   "metadata": {},
   "outputs": [],
   "source": []
  }
 ],
 "metadata": {
  "kernelspec": {
   "display_name": "Python 3",
   "language": "python",
   "name": "python3"
  },
  "language_info": {
   "codemirror_mode": {
    "name": "ipython",
    "version": 3
   },
   "file_extension": ".py",
   "mimetype": "text/x-python",
   "name": "python",
   "nbconvert_exporter": "python",
   "pygments_lexer": "ipython3",
   "version": "3.8.8"
  }
 },
 "nbformat": 4,
 "nbformat_minor": 5
}
